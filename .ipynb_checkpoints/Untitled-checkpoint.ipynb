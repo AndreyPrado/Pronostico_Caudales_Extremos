{
 "cells": [
  {
   "cell_type": "code",
   "execution_count": 1,
   "id": "f2224315-f2a2-470e-b823-888d15256e30",
   "metadata": {},
   "outputs": [
    {
     "name": "stdout",
     "output_type": "stream",
     "text": [
      "Requirement already satisfied: xarray in c:\\users\\andre\\anaconda3\\lib\\site-packages (2023.6.0)\n",
      "Collecting netCDF4\n",
      "  Downloading netCDF4-1.7.2-cp312-cp312-win_amd64.whl.metadata (1.8 kB)\n",
      "Requirement already satisfied: matplotlib in c:\\users\\andre\\anaconda3\\lib\\site-packages (3.9.2)\n",
      "Collecting cartopy\n",
      "  Downloading Cartopy-0.24.1-cp312-cp312-win_amd64.whl.metadata (8.1 kB)\n",
      "Requirement already satisfied: numpy>=1.21 in c:\\users\\andre\\anaconda3\\lib\\site-packages (from xarray) (1.26.4)\n",
      "Requirement already satisfied: pandas>=1.4 in c:\\users\\andre\\anaconda3\\lib\\site-packages (from xarray) (2.2.2)\n",
      "Requirement already satisfied: packaging>=21.3 in c:\\users\\andre\\anaconda3\\lib\\site-packages (from xarray) (24.1)\n",
      "Collecting cftime (from netCDF4)\n",
      "  Downloading cftime-1.6.4.post1-cp312-cp312-win_amd64.whl.metadata (8.9 kB)\n",
      "Requirement already satisfied: certifi in c:\\users\\andre\\anaconda3\\lib\\site-packages (from netCDF4) (2025.1.31)\n",
      "Requirement already satisfied: contourpy>=1.0.1 in c:\\users\\andre\\anaconda3\\lib\\site-packages (from matplotlib) (1.2.0)\n",
      "Requirement already satisfied: cycler>=0.10 in c:\\users\\andre\\anaconda3\\lib\\site-packages (from matplotlib) (0.11.0)\n",
      "Requirement already satisfied: fonttools>=4.22.0 in c:\\users\\andre\\anaconda3\\lib\\site-packages (from matplotlib) (4.51.0)\n",
      "Requirement already satisfied: kiwisolver>=1.3.1 in c:\\users\\andre\\anaconda3\\lib\\site-packages (from matplotlib) (1.4.4)\n",
      "Requirement already satisfied: pillow>=8 in c:\\users\\andre\\anaconda3\\lib\\site-packages (from matplotlib) (10.4.0)\n",
      "Requirement already satisfied: pyparsing>=2.3.1 in c:\\users\\andre\\anaconda3\\lib\\site-packages (from matplotlib) (3.1.2)\n",
      "Requirement already satisfied: python-dateutil>=2.7 in c:\\users\\andre\\anaconda3\\lib\\site-packages (from matplotlib) (2.9.0.post0)\n",
      "Collecting shapely>=1.8 (from cartopy)\n",
      "  Downloading shapely-2.1.1-cp312-cp312-win_amd64.whl.metadata (7.0 kB)\n",
      "Collecting pyshp>=2.3 (from cartopy)\n",
      "  Downloading pyshp-2.3.1-py2.py3-none-any.whl.metadata (55 kB)\n",
      "Requirement already satisfied: pyproj>=3.3.1 in c:\\users\\andre\\anaconda3\\lib\\site-packages (from cartopy) (3.7.1)\n",
      "Requirement already satisfied: pytz>=2020.1 in c:\\users\\andre\\anaconda3\\lib\\site-packages (from pandas>=1.4->xarray) (2024.1)\n",
      "Requirement already satisfied: tzdata>=2022.7 in c:\\users\\andre\\anaconda3\\lib\\site-packages (from pandas>=1.4->xarray) (2023.3)\n",
      "Requirement already satisfied: six>=1.5 in c:\\users\\andre\\anaconda3\\lib\\site-packages (from python-dateutil>=2.7->matplotlib) (1.16.0)\n",
      "Downloading netCDF4-1.7.2-cp312-cp312-win_amd64.whl (7.0 MB)\n",
      "   ---------------------------------------- 0.0/7.0 MB ? eta -:--:--\n",
      "   ---------------------------------------- 0.0/7.0 MB ? eta -:--:--\n",
      "   - -------------------------------------- 0.3/7.0 MB ? eta -:--:--\n",
      "   ---- ----------------------------------- 0.8/7.0 MB 1.3 MB/s eta 0:00:05\n",
      "   ----- ---------------------------------- 1.0/7.0 MB 1.4 MB/s eta 0:00:05\n",
      "   ------- -------------------------------- 1.3/7.0 MB 1.4 MB/s eta 0:00:04\n",
      "   -------- ------------------------------- 1.6/7.0 MB 1.4 MB/s eta 0:00:04\n",
      "   ---------- ----------------------------- 1.8/7.0 MB 1.5 MB/s eta 0:00:04\n",
      "   ------------- -------------------------- 2.4/7.0 MB 1.5 MB/s eta 0:00:04\n",
      "   -------------- ------------------------- 2.6/7.0 MB 1.5 MB/s eta 0:00:03\n",
      "   ----------------- ---------------------- 3.1/7.0 MB 1.6 MB/s eta 0:00:03\n",
      "   ------------------- -------------------- 3.4/7.0 MB 1.6 MB/s eta 0:00:03\n",
      "   -------------------- ------------------- 3.7/7.0 MB 1.6 MB/s eta 0:00:03\n",
      "   ----------------------- ---------------- 4.2/7.0 MB 1.6 MB/s eta 0:00:02\n",
      "   ------------------------- -------------- 4.5/7.0 MB 1.6 MB/s eta 0:00:02\n",
      "   ---------------------------- ----------- 5.0/7.0 MB 1.6 MB/s eta 0:00:02\n",
      "   ----------------------------- ---------- 5.2/7.0 MB 1.6 MB/s eta 0:00:02\n",
      "   -------------------------------- ------- 5.8/7.0 MB 1.7 MB/s eta 0:00:01\n",
      "   ---------------------------------- ----- 6.0/7.0 MB 1.7 MB/s eta 0:00:01\n",
      "   ------------------------------------- -- 6.6/7.0 MB 1.7 MB/s eta 0:00:01\n",
      "   -------------------------------------- - 6.8/7.0 MB 1.7 MB/s eta 0:00:01\n",
      "   ---------------------------------------- 7.0/7.0 MB 1.7 MB/s eta 0:00:00\n",
      "Downloading Cartopy-0.24.1-cp312-cp312-win_amd64.whl (11.0 MB)\n",
      "   ---------------------------------------- 0.0/11.0 MB ? eta -:--:--\n",
      "    --------------------------------------- 0.3/11.0 MB ? eta -:--:--\n",
      "   -- ------------------------------------- 0.8/11.0 MB 2.1 MB/s eta 0:00:05\n",
      "   ---- ----------------------------------- 1.3/11.0 MB 2.2 MB/s eta 0:00:05\n",
      "   ----- ---------------------------------- 1.6/11.0 MB 2.1 MB/s eta 0:00:05\n",
      "   ------- -------------------------------- 2.1/11.0 MB 2.2 MB/s eta 0:00:05\n",
      "   --------- ------------------------------ 2.6/11.0 MB 2.2 MB/s eta 0:00:04\n",
      "   ---------- ----------------------------- 2.9/11.0 MB 2.0 MB/s eta 0:00:05\n",
      "   ----------- ---------------------------- 3.1/11.0 MB 2.0 MB/s eta 0:00:04\n",
      "   ------------- -------------------------- 3.7/11.0 MB 2.0 MB/s eta 0:00:04\n",
      "   --------------- ------------------------ 4.2/11.0 MB 2.1 MB/s eta 0:00:04\n",
      "   ----------------- ---------------------- 4.7/11.0 MB 2.1 MB/s eta 0:00:03\n",
      "   ------------------- -------------------- 5.2/11.0 MB 2.2 MB/s eta 0:00:03\n",
      "   --------------------- ------------------ 5.8/11.0 MB 2.2 MB/s eta 0:00:03\n",
      "   ---------------------- ----------------- 6.3/11.0 MB 2.2 MB/s eta 0:00:03\n",
      "   ------------------------ --------------- 6.8/11.0 MB 2.2 MB/s eta 0:00:02\n",
      "   -------------------------- ------------- 7.3/11.0 MB 2.3 MB/s eta 0:00:02\n",
      "   ----------------------------- ---------- 8.1/11.0 MB 2.3 MB/s eta 0:00:02\n",
      "   ------------------------------- -------- 8.7/11.0 MB 2.3 MB/s eta 0:00:01\n",
      "   --------------------------------- ------ 9.2/11.0 MB 2.4 MB/s eta 0:00:01\n",
      "   ----------------------------------- ---- 9.7/11.0 MB 2.4 MB/s eta 0:00:01\n",
      "   -------------------------------------- - 10.5/11.0 MB 2.4 MB/s eta 0:00:01\n",
      "   ---------------------------------------- 11.0/11.0 MB 2.4 MB/s eta 0:00:00\n",
      "Downloading pyshp-2.3.1-py2.py3-none-any.whl (46 kB)\n",
      "Downloading shapely-2.1.1-cp312-cp312-win_amd64.whl (1.7 MB)\n",
      "   ---------------------------------------- 0.0/1.7 MB ? eta -:--:--\n",
      "   ------------ --------------------------- 0.5/1.7 MB 3.4 MB/s eta 0:00:01\n",
      "   ------------------------ --------------- 1.0/1.7 MB 3.0 MB/s eta 0:00:01\n",
      "   ---------------------------------------- 1.7/1.7 MB 3.0 MB/s eta 0:00:00\n",
      "Downloading cftime-1.6.4.post1-cp312-cp312-win_amd64.whl (178 kB)\n",
      "Installing collected packages: shapely, pyshp, cftime, netCDF4, cartopy\n",
      "Successfully installed cartopy-0.24.1 cftime-1.6.4.post1 netCDF4-1.7.2 pyshp-2.3.1 shapely-2.1.1\n",
      "Note: you may need to restart the kernel to use updated packages.\n"
     ]
    }
   ],
   "source": [
    "pip install xarray netCDF4 matplotlib cartopy\n"
   ]
  },
  {
   "cell_type": "code",
   "execution_count": 155,
   "id": "698f8cb0-8b76-4a1f-ace1-cb6ab0759cbd",
   "metadata": {},
   "outputs": [
    {
     "name": "stdout",
     "output_type": "stream",
     "text": [
      "¡Archivo descomprimido!\n"
     ]
    }
   ],
   "source": [
    "import zipfile\n",
    "\n",
    "# Ruta al archivo ZIP\n",
    "zip_path = \"C:/Users/andre/OneDrive/Escritorio/Cuencas/era5_land_data_brujo.nc\"  # este es un ZIP aunque termine en .nc\n",
    "extract_to = \"C:/Users/andre/OneDrive/Escritorio/Cuencas/era5_data_extraida_brujo\"\n",
    "\n",
    "with zipfile.ZipFile(zip_path, 'r') as zip_ref:\n",
    "    zip_ref.extractall(extract_to)\n",
    "\n",
    "print(\"¡Archivo descomprimido!\")\n"
   ]
  },
  {
   "cell_type": "code",
   "execution_count": null,
   "id": "999d67b5-9652-46d1-9af1-ab23ad6c24a4",
   "metadata": {},
   "outputs": [],
   "source": [
    "\n",
    "zip_path = \"C:/Users/andre/OneDrive/Escritorio/Cuencas/era5_land_data.nc\"  # este es un ZIP aunque termine en .nc\n",
    "extract_to = \"C:/Users/andre/OneDrive/Escritorio/Cuencas/era5_data_extraida\"\n",
    "\n",
    "with zipfile.ZipFile(zip_path, 'r') as zip_ref:\n",
    "    zip_ref.extractall(extract_to)\n",
    "\n",
    "print(\"¡Archivo descomprimido!\")\n"
   ]
  },
  {
   "cell_type": "code",
   "execution_count": 15,
   "id": "506d11ba-3c0c-42b5-83f0-460ab7b934ff",
   "metadata": {},
   "outputs": [
    {
     "name": "stdout",
     "output_type": "stream",
     "text": [
      "<xarray.Dataset>\n",
      "Dimensions:     (valid_time: 904, latitude: 5, longitude: 4)\n",
      "Coordinates:\n",
      "  * valid_time  (valid_time) datetime64[ns] 1950-01-01 1950-02-01 ... 2025-04-01\n",
      "  * latitude    (latitude) float64 10.96 10.86 10.76 10.66 10.56\n",
      "  * longitude   (longitude) float64 -85.65 -85.55 -85.45 -85.35\n",
      "Data variables:\n",
      "    number      int64 ...\n",
      "    expver      (valid_time) object ...\n",
      "    t2m         (valid_time, latitude, longitude) float32 ...\n",
      "    u10         (valid_time, latitude, longitude) float32 ...\n",
      "    tp          (valid_time, latitude, longitude) float32 ...\n",
      "Attributes:\n",
      "    GRIB_centre:             ecmf\n",
      "    GRIB_centreDescription:  European Centre for Medium-Range Weather Forecasts\n",
      "    GRIB_subCentre:          0\n",
      "    Conventions:             CF-1.7\n",
      "    institution:             European Centre for Medium-Range Weather Forecasts\n",
      "    history:                 2025-05-27T22:25 GRIB to CDM+CF via cfgrib-0.9.1...\n"
     ]
    }
   ],
   "source": [
    "import xarray as xr\n",
    "ds = xr.open_dataset(\"C:/Users/andre/OneDrive/Escritorio/Cuencas/era5_data_extraida/data_stream-moda.nc\")\n",
    "print(ds)"
   ]
  },
  {
   "cell_type": "code",
   "execution_count": 161,
   "id": "75a08009-4923-4c24-9391-e62a09a7382e",
   "metadata": {},
   "outputs": [
    {
     "name": "stdout",
     "output_type": "stream",
     "text": [
      "<xarray.Dataset>\n",
      "Dimensions:     (valid_time: 904, latitude: 7, longitude: 7)\n",
      "Coordinates:\n",
      "  * valid_time  (valid_time) datetime64[ns] 1950-01-01 1950-02-01 ... 2025-04-01\n",
      "  * latitude    (latitude) float64 9.57 9.47 9.37 9.27 9.17 9.07 8.97\n",
      "  * longitude   (longitude) float64 -83.81 -83.71 -83.61 ... -83.31 -83.21\n",
      "Data variables:\n",
      "    number      int64 ...\n",
      "    expver      (valid_time) object ...\n",
      "    t2m         (valid_time, latitude, longitude) float32 ...\n",
      "    u10         (valid_time, latitude, longitude) float32 ...\n",
      "    tp          (valid_time, latitude, longitude) float32 ...\n",
      "Attributes:\n",
      "    GRIB_centre:             ecmf\n",
      "    GRIB_centreDescription:  European Centre for Medium-Range Weather Forecasts\n",
      "    GRIB_subCentre:          0\n",
      "    Conventions:             CF-1.7\n",
      "    institution:             European Centre for Medium-Range Weather Forecasts\n",
      "    history:                 2025-05-27T23:31 GRIB to CDM+CF via cfgrib-0.9.1...\n"
     ]
    }
   ],
   "source": [
    "df = xr.open_dataset(r\"C:\\Users\\andre\\OneDrive\\Escritorio\\Cuencas\\era5_data_extraida_brujo\\data_stream-moda.nc\")\n",
    "print(df)"
   ]
  },
  {
   "cell_type": "code",
   "execution_count": 33,
   "id": "b5aedc29-4526-4ee4-9987-4aa06d8b443e",
   "metadata": {},
   "outputs": [
    {
     "name": "stdout",
     "output_type": "stream",
     "text": [
      "<xarray.DataArray 't2m' (valid_time: 904, latitude: 5, longitude: 4)>\n",
      "[18080 values with dtype=float32]\n",
      "Coordinates:\n",
      "  * valid_time  (valid_time) datetime64[ns] 1950-01-01 1950-02-01 ... 2025-04-01\n",
      "  * latitude    (latitude) float64 10.96 10.86 10.76 10.66 10.56\n",
      "  * longitude   (longitude) float64 -85.65 -85.55 -85.45 -85.35\n",
      "Attributes: (12/32)\n",
      "    GRIB_paramId:                             167\n",
      "    GRIB_dataType:                            fc\n",
      "    GRIB_numberOfPoints:                      20\n",
      "    GRIB_typeOfLevel:                         surface\n",
      "    GRIB_stepUnits:                           1\n",
      "    GRIB_gridType:                            regular_ll\n",
      "    ...                                       ...\n",
      "    GRIB_units:                               K\n",
      "    long_name:                                2 metre temperature\n",
      "    units:                                    K\n",
      "    standard_name:                            unknown\n",
      "    GRIB_surface:                             0.0\n",
      "    coordinates:                              number time latitude longitude ...\n",
      "<xarray.DataArray 'tp' (valid_time: 904, latitude: 5, longitude: 4)>\n",
      "[18080 values with dtype=float32]\n",
      "Coordinates:\n",
      "  * valid_time  (valid_time) datetime64[ns] 1950-01-01 1950-02-01 ... 2025-04-01\n",
      "  * latitude    (latitude) float64 10.96 10.86 10.76 10.66 10.56\n",
      "  * longitude   (longitude) float64 -85.65 -85.55 -85.45 -85.35\n",
      "Attributes: (12/32)\n",
      "    GRIB_paramId:                             228\n",
      "    GRIB_dataType:                            fc\n",
      "    GRIB_numberOfPoints:                      20\n",
      "    GRIB_typeOfLevel:                         surface\n",
      "    GRIB_stepUnits:                           1\n",
      "    GRIB_gridType:                            regular_ll\n",
      "    ...                                       ...\n",
      "    GRIB_units:                               m\n",
      "    long_name:                                Total precipitation\n",
      "    units:                                    m\n",
      "    standard_name:                            unknown\n",
      "    GRIB_surface:                             0.0\n",
      "    coordinates:                              number time latitude longitude ...\n",
      "<xarray.DataArray 'u10' (valid_time: 904, latitude: 5, longitude: 4)>\n",
      "[18080 values with dtype=float32]\n",
      "Coordinates:\n",
      "  * valid_time  (valid_time) datetime64[ns] 1950-01-01 1950-02-01 ... 2025-04-01\n",
      "  * latitude    (latitude) float64 10.96 10.86 10.76 10.66 10.56\n",
      "  * longitude   (longitude) float64 -85.65 -85.55 -85.45 -85.35\n",
      "Attributes: (12/32)\n",
      "    GRIB_paramId:                             165\n",
      "    GRIB_dataType:                            fc\n",
      "    GRIB_numberOfPoints:                      20\n",
      "    GRIB_typeOfLevel:                         surface\n",
      "    GRIB_stepUnits:                           1\n",
      "    GRIB_gridType:                            regular_ll\n",
      "    ...                                       ...\n",
      "    GRIB_units:                               m s**-1\n",
      "    long_name:                                10 metre U wind component\n",
      "    units:                                    m s**-1\n",
      "    standard_name:                            unknown\n",
      "    GRIB_surface:                             0.0\n",
      "    coordinates:                              number time latitude longitude ...\n"
     ]
    }
   ],
   "source": [
    "temp = ds['t2m']\n",
    "prep = ds['tp']\n",
    "viento = ds['u10']\n",
    "\n",
    "\n",
    "\n",
    "print(temp)\n",
    "print(prep)\n",
    "print(viento)"
   ]
  },
  {
   "cell_type": "code",
   "execution_count": 163,
   "id": "f1f5700a-b2a7-45b2-a218-9d1e73da0ec9",
   "metadata": {},
   "outputs": [],
   "source": [
    "temp_df = df['t2m']\n",
    "prep_df = df['tp']\n",
    "viento_df = df['u10']"
   ]
  },
  {
   "cell_type": "code",
   "execution_count": 35,
   "id": "75121d92-728d-44a3-8c1f-3f840d891918",
   "metadata": {},
   "outputs": [
    {
     "name": "stdout",
     "output_type": "stream",
     "text": [
      "[296.9828  297.5575  298.27197 299.42297 298.80396 297.4646  297.2032\n",
      " 296.9687  297.51385 296.45233]\n",
      "[-3.8522434  -3.6201086  -2.6545448  -2.5591803  -1.432683   -0.9925642\n",
      " -1.675662   -0.9365797  -0.46230793  0.01758206]\n",
      "[0.0002459  0.0001542  0.0013871  0.00018915 0.00369009 0.01397778\n",
      " 0.00679057 0.01364031 0.00968002 0.01861786]\n"
     ]
    }
   ],
   "source": [
    "temp = temp.sel(latitude=10.75, longitude=-85.5, method='nearest')\n",
    "viento = viento.sel(latitude=10.75, longitude=-85.5, method='nearest')\n",
    "prep = prep.sel(latitude=10.75, longitude=-85.5, method='nearest')\n",
    "\n",
    "\n",
    "print(temp.values[:10])\n",
    "print(viento.values[:10])\n",
    "print(prep.values[:10])\n"
   ]
  },
  {
   "cell_type": "code",
   "execution_count": 165,
   "id": "6518ded3-03dd-4119-80be-9457e525aa2f",
   "metadata": {},
   "outputs": [
    {
     "name": "stdout",
     "output_type": "stream",
     "text": [
      "[291.60303 292.2141  293.03857 293.12915 292.88647 292.70508 292.18628\n",
      " 292.55444 292.68555 291.94727]\n",
      "[-0.37911034 -0.22430259 -0.09894192 -0.12754959 -0.16595626 -0.05787617\n",
      " -0.14130676 -0.01754707 -0.06036836  0.1257006 ]\n",
      "[0.00379984 0.01091181 0.00768583 0.00526777 0.02621512 0.03380582\n",
      " 0.03039276 0.03957029 0.02093327 0.03972319]\n"
     ]
    }
   ],
   "source": [
    "temp_df = temp_df.sel(latitude=9.27, longitude=-83.51, method='nearest')\n",
    "viento_df = viento_df.sel(latitude=9.27, longitude=-83.51, method='nearest')\n",
    "prep_df = prep_df.sel(latitude=9.27, longitude=-83.51, method='nearest')\n",
    "\n",
    "\n",
    "print(temp_df.values[:10])\n",
    "print(viento_df.values[:10])\n",
    "print(prep_df.values[:10])"
   ]
  },
  {
   "cell_type": "code",
   "execution_count": 167,
   "id": "67a5d661-0f95-44a7-878f-b8b2c7379dd3",
   "metadata": {},
   "outputs": [],
   "source": [
    "temp_df = temp_df -273.15"
   ]
  },
  {
   "cell_type": "code",
   "execution_count": 169,
   "id": "cad2811d-063f-4164-82d0-da2dde78a0aa",
   "metadata": {},
   "outputs": [
    {
     "name": "stdout",
     "output_type": "stream",
     "text": [
      "[18.453033 19.064117 19.88858  19.979156 19.73648  19.555084 19.036285\n",
      " 19.40445  19.535553 18.797272]\n"
     ]
    }
   ],
   "source": [
    "print(temp_df.values[:10])"
   ]
  },
  {
   "cell_type": "code",
   "execution_count": 41,
   "id": "41df5382-3c76-4017-9bfa-8e2b37b34021",
   "metadata": {},
   "outputs": [
    {
     "data": {
      "image/png": "[encoded data removed]",
      "text/plain": [
       "<Figure size 640x480 with 1 Axes>"
      ]
     },
     "metadata": {},
     "output_type": "display_data"
    }
   ],
   "source": [
    "import matplotlib.pyplot as plt\n",
    "\n",
    "temp.plot()\n",
    "plt.title(\"Temperatura a 2m\")\n",
    "plt.show()"
   ]
  },
  {
   "cell_type": "code",
   "execution_count": 43,
   "id": "6f41b2cb-0006-4fa2-b5e7-d9588226754f",
   "metadata": {},
   "outputs": [
    {
     "data": {
      "image/png": "[encoded data removed]",
      "text/plain": [
       "<Figure size 640x480 with 1 Axes>"
      ]
     },
     "metadata": {},
     "output_type": "display_data"
    }
   ],
   "source": [
    "viento.plot()\n",
    "plt.title(\"Serie del viento\")\n",
    "plt.show()"
   ]
  },
  {
   "cell_type": "code",
   "execution_count": 45,
   "id": "f422bd08-09f0-4635-a284-f4f769440366",
   "metadata": {},
   "outputs": [
    {
     "data": {
      "image/png": "[encoded data removed]",
      "text/plain": [
       "<Figure size 640x480 with 1 Axes>"
      ]
     },
     "metadata": {},
     "output_type": "display_data"
    }
   ],
   "source": [
    "prep.plot()\n",
    "plt.title('Serie de la precipitación')\n",
    "plt.show()"
   ]
  },
  {
   "cell_type": "code",
   "execution_count": 73,
   "id": "1f293af5-5cb4-422b-ad1c-603abfdd0b96",
   "metadata": {},
   "outputs": [],
   "source": [
    "import pandas as pd"
   ]
  },
  {
   "cell_type": "code",
   "execution_count": 91,
   "id": "54a3f782-da8e-4d23-b299-502720db3b48",
   "metadata": {},
   "outputs": [],
   "source": [
    "df_temp = temp.to_dataframe(name='temp_celsius')\n",
    "df_viento = viento.to_dataframe(name='viento')\n",
    "df_prep = prep.to_dataframe(name='prep')"
   ]
  },
  {
   "cell_type": "code",
   "execution_count": 173,
   "id": "cab2079d-6ac5-4f2e-859f-08de439f4d88",
   "metadata": {},
   "outputs": [],
   "source": [
    "df_tempb = temp_df.to_dataframe(name='temp_celsius')\n",
    "df_vientob = viento_df.to_dataframe(name='viento')\n",
    "df_prepb = prep_df.to_dataframe(name='prep')"
   ]
  },
  {
   "cell_type": "code",
   "execution_count": 93,
   "id": "1621ce24-a534-465d-9cf0-ad35c8ad8d42",
   "metadata": {},
   "outputs": [],
   "source": [
    "df_era = pd.concat([df_temp, df_viento, df_prep], axis=1)\n",
    "df_era = df_era.loc[:, ~df_era.columns.duplicated()]"
   ]
  },
  {
   "cell_type": "code",
   "execution_count": 313,
   "id": "4f52610e-abc4-4752-b50e-b2fa9bb87ba0",
   "metadata": {},
   "outputs": [],
   "source": [
    "df_era_b = pd.concat([df_tempb, df_vientob, df_prepb], axis=1)\n",
    "df_era_b = df_era_b.loc[:, ~df_era_b.columns.duplicated()]"
   ]
  },
  {
   "cell_type": "code",
   "execution_count": 315,
   "id": "24adf710-e68b-4315-a597-1f20dcc4e76d",
   "metadata": {},
   "outputs": [
    {
     "name": "stdout",
     "output_type": "stream",
     "text": [
      "            latitude  longitude  temp_celsius    viento      prep\n",
      "valid_time                                                       \n",
      "1950-01-01      9.27     -83.51     18.453033 -0.379110  0.003800\n",
      "1950-02-01      9.27     -83.51     19.064117 -0.224303  0.010912\n",
      "1950-03-01      9.27     -83.51     19.888580 -0.098942  0.007686\n",
      "1950-04-01      9.27     -83.51     19.979156 -0.127550  0.005268\n",
      "1950-05-01      9.27     -83.51     19.736481 -0.165956  0.026215\n",
      "...              ...        ...           ...       ...       ...\n",
      "2024-12-01      9.27     -83.51     19.991608 -0.288862  0.009731\n",
      "2025-01-01      9.27     -83.51     19.821686 -0.348227  0.003635\n",
      "2025-02-01      9.27     -83.51     20.288239 -0.297166  0.004517\n",
      "2025-03-01      9.27     -83.51     21.349518 -0.191571  0.001858\n",
      "2025-04-01      9.27     -83.51     21.323395 -0.182125  0.007708\n",
      "\n",
      "[904 rows x 5 columns]\n"
     ]
    }
   ],
   "source": [
    "print(df_era_b)"
   ]
  },
  {
   "cell_type": "code",
   "execution_count": 97,
   "id": "39d5df50-f347-4991-88b2-999e9a3804d1",
   "metadata": {},
   "outputs": [],
   "source": [
    "df_caudal = pd.read_csv(r\"C:\\Users\\andre\\OneDrive\\Escritorio\\Cuencas\\Guardia\\GuardiaMinimos.csv\")"
   ]
  },
  {
   "cell_type": "code",
   "execution_count": 117,
   "id": "05da7a98-b06a-4619-bf71-c0bf9be2feab",
   "metadata": {},
   "outputs": [
    {
     "name": "stdout",
     "output_type": "stream",
     "text": [
      "  DIA  MES   ANO      fecha\n",
      "0  14  AGO  1951 1951-08-01\n",
      "1  17  SET  1951 1951-09-01\n",
      "2  31  OCT  1951 1951-10-01\n",
      "3  30  NOV  1951 1951-11-01\n",
      "4  15  DIC  1951 1951-12-01\n"
     ]
    },
    {
     "data": {
      "text/html": [
       "<div>\n",
       "<style scoped>\n",
       "    .dataframe tbody tr th:only-of-type {\n",
       "        vertical-align: middle;\n",
       "    }\n",
       "\n",
       "    .dataframe tbody tr th {\n",
       "        vertical-align: top;\n",
       "    }\n",
       "\n",
       "    .dataframe thead th {\n",
       "        text-align: right;\n",
       "    }\n",
       "</style>\n",
       "<table border=\"1\" class=\"dataframe\">\n",
       "  <thead>\n",
       "    <tr style=\"text-align: right;\">\n",
       "      <th></th>\n",
       "      <th>ESC.</th>\n",
       "      <th>M3/SEG.</th>\n",
       "      <th>fecha</th>\n",
       "    </tr>\n",
       "  </thead>\n",
       "  <tbody>\n",
       "    <tr>\n",
       "      <th>0</th>\n",
       "      <td>2.16</td>\n",
       "      <td>13.9</td>\n",
       "      <td>1951-08-01</td>\n",
       "    </tr>\n",
       "    <tr>\n",
       "      <th>1</th>\n",
       "      <td>2.24</td>\n",
       "      <td>18.4</td>\n",
       "      <td>1951-09-01</td>\n",
       "    </tr>\n",
       "    <tr>\n",
       "      <th>2</th>\n",
       "      <td>2.29</td>\n",
       "      <td>21.8</td>\n",
       "      <td>1951-10-01</td>\n",
       "    </tr>\n",
       "    <tr>\n",
       "      <th>3</th>\n",
       "      <td>2.20</td>\n",
       "      <td>15.9</td>\n",
       "      <td>1951-11-01</td>\n",
       "    </tr>\n",
       "    <tr>\n",
       "      <th>4</th>\n",
       "      <td>2.23</td>\n",
       "      <td>17.6</td>\n",
       "      <td>1951-12-01</td>\n",
       "    </tr>\n",
       "    <tr>\n",
       "      <th>...</th>\n",
       "      <td>...</td>\n",
       "      <td>...</td>\n",
       "      <td>...</td>\n",
       "    </tr>\n",
       "    <tr>\n",
       "      <th>388</th>\n",
       "      <td>NaN</td>\n",
       "      <td>8.67</td>\n",
       "      <td>1992-12-01</td>\n",
       "    </tr>\n",
       "    <tr>\n",
       "      <th>389</th>\n",
       "      <td>NaN</td>\n",
       "      <td>8.45</td>\n",
       "      <td>1993-01-01</td>\n",
       "    </tr>\n",
       "    <tr>\n",
       "      <th>390</th>\n",
       "      <td>NaN</td>\n",
       "      <td>5.34</td>\n",
       "      <td>1993-02-01</td>\n",
       "    </tr>\n",
       "    <tr>\n",
       "      <th>391</th>\n",
       "      <td>NaN</td>\n",
       "      <td>4.13</td>\n",
       "      <td>1993-03-01</td>\n",
       "    </tr>\n",
       "    <tr>\n",
       "      <th>392</th>\n",
       "      <td>NaN</td>\n",
       "      <td>3.96</td>\n",
       "      <td>1993-04-01</td>\n",
       "    </tr>\n",
       "  </tbody>\n",
       "</table>\n",
       "<p>393 rows × 3 columns</p>\n",
       "</div>"
      ],
      "text/plain": [
       "     ESC. M3/SEG.      fecha\n",
       "0    2.16    13.9 1951-08-01\n",
       "1    2.24    18.4 1951-09-01\n",
       "2    2.29    21.8 1951-10-01\n",
       "3    2.20    15.9 1951-11-01\n",
       "4    2.23    17.6 1951-12-01\n",
       "..    ...     ...        ...\n",
       "388   NaN    8.67 1992-12-01\n",
       "389   NaN    8.45 1993-01-01\n",
       "390   NaN    5.34 1993-02-01\n",
       "391   NaN    4.13 1993-03-01\n",
       "392   NaN    3.96 1993-04-01\n",
       "\n",
       "[393 rows x 3 columns]"
      ]
     },
     "execution_count": 117,
     "metadata": {},
     "output_type": "execute_result"
    }
   ],
   "source": [
    "meses = {\n",
    "    'ENE': 1, 'FEB': 2, 'MAR': 3, 'ABR': 4, 'MAY': 5, 'JUN': 6,\n",
    "    'JUL': 7, 'AGO': 8, 'SET': 9, 'OCT': 10, 'NOV': 11, 'DIC': 12\n",
    "}\n",
    "df_caudal['MES_num'] = df_caudal['MES'].map(meses)\n",
    "df_caudal['fecha'] = pd.to_datetime(dict(year=df_caudal['ANO'], month=df_caudal['MES_num'], day=1))\n",
    "df_caudal.drop('MES_num', axis=1, inplace=True)\n",
    "print(df_caudal[['DIA', 'MES', 'ANO', 'fecha']].head())\n",
    "df_caudal.drop(columns = ['DIA','MES','ANO'])"
   ]
  },
  {
   "cell_type": "code",
   "execution_count": 125,
   "id": "f276fe6e-2da2-417c-a612-b3aea3560beb",
   "metadata": {},
   "outputs": [
    {
     "ename": "KeyError",
     "evalue": "\"None of ['fecha'] are in the columns\"",
     "output_type": "error",
     "traceback": [
      "\u001b[1;31m---------------------------------------------------------------------------\u001b[0m",
      "\u001b[1;31mKeyError\u001b[0m                                  Traceback (most recent call last)",
      "\u001b[1;32m~\\AppData\\Local\\Temp\\ipykernel_21956\\738189370.py\u001b[0m in \u001b[0;36m?\u001b[1;34m()\u001b[0m\n\u001b[1;32m----> 1\u001b[1;33m \u001b[0mdf_caudal\u001b[0m\u001b[1;33m.\u001b[0m\u001b[0mset_index\u001b[0m\u001b[1;33m(\u001b[0m\u001b[1;34m'fecha'\u001b[0m\u001b[1;33m,\u001b[0m \u001b[0minplace\u001b[0m\u001b[1;33m=\u001b[0m\u001b[1;32mTrue\u001b[0m\u001b[1;33m)\u001b[0m\u001b[1;33m\u001b[0m\u001b[1;33m\u001b[0m\u001b[0m\n\u001b[0m\u001b[0;32m      2\u001b[0m \u001b[0mdf\u001b[0m\u001b[1;33m.\u001b[0m\u001b[0mindex\u001b[0m\u001b[1;33m.\u001b[0m\u001b[0mname\u001b[0m \u001b[1;33m=\u001b[0m \u001b[1;34m'valid_time'\u001b[0m\u001b[1;33m\u001b[0m\u001b[1;33m\u001b[0m\u001b[0m\n",
      "\u001b[1;32m~\\anaconda3\\Lib\\site-packages\\pandas\\core\\frame.py\u001b[0m in \u001b[0;36m?\u001b[1;34m(self, keys, drop, append, inplace, verify_integrity)\u001b[0m\n\u001b[0;32m   6118\u001b[0m                     \u001b[1;32mif\u001b[0m \u001b[1;32mnot\u001b[0m \u001b[0mfound\u001b[0m\u001b[1;33m:\u001b[0m\u001b[1;33m\u001b[0m\u001b[1;33m\u001b[0m\u001b[0m\n\u001b[0;32m   6119\u001b[0m                         \u001b[0mmissing\u001b[0m\u001b[1;33m.\u001b[0m\u001b[0mappend\u001b[0m\u001b[1;33m(\u001b[0m\u001b[0mcol\u001b[0m\u001b[1;33m)\u001b[0m\u001b[1;33m\u001b[0m\u001b[1;33m\u001b[0m\u001b[0m\n\u001b[0;32m   6120\u001b[0m \u001b[1;33m\u001b[0m\u001b[0m\n\u001b[0;32m   6121\u001b[0m         \u001b[1;32mif\u001b[0m \u001b[0mmissing\u001b[0m\u001b[1;33m:\u001b[0m\u001b[1;33m\u001b[0m\u001b[1;33m\u001b[0m\u001b[0m\n\u001b[1;32m-> 6122\u001b[1;33m             \u001b[1;32mraise\u001b[0m \u001b[0mKeyError\u001b[0m\u001b[1;33m(\u001b[0m\u001b[1;33mf\"\u001b[0m\u001b[1;33mNone of \u001b[0m\u001b[1;33m{\u001b[0m\u001b[0mmissing\u001b[0m\u001b[1;33m}\u001b[0m\u001b[1;33m are in the columns\u001b[0m\u001b[1;33m\"\u001b[0m\u001b[1;33m)\u001b[0m\u001b[1;33m\u001b[0m\u001b[1;33m\u001b[0m\u001b[0m\n\u001b[0m\u001b[0;32m   6123\u001b[0m \u001b[1;33m\u001b[0m\u001b[0m\n\u001b[0;32m   6124\u001b[0m         \u001b[1;32mif\u001b[0m \u001b[0minplace\u001b[0m\u001b[1;33m:\u001b[0m\u001b[1;33m\u001b[0m\u001b[1;33m\u001b[0m\u001b[0m\n\u001b[0;32m   6125\u001b[0m             \u001b[0mframe\u001b[0m \u001b[1;33m=\u001b[0m \u001b[0mself\u001b[0m\u001b[1;33m\u001b[0m\u001b[1;33m\u001b[0m\u001b[0m\n",
      "\u001b[1;31mKeyError\u001b[0m: \"None of ['fecha'] are in the columns\""
     ]
    }
   ],
   "source": [
    "df_caudal.set_index('fecha', inplace=True)"
   ]
  },
  {
   "cell_type": "code",
   "execution_count": 127,
   "id": "c7f060a8-fb02-4bc0-abe1-741a052273dc",
   "metadata": {},
   "outputs": [],
   "source": [
    "df_caudal.index.name = 'valid_time'"
   ]
  },
  {
   "cell_type": "code",
   "execution_count": 129,
   "id": "778e0af3-5eb4-4d11-9592-0f220f78ac3f",
   "metadata": {},
   "outputs": [
    {
     "name": "stdout",
     "output_type": "stream",
     "text": [
      "           DIA  MES   ANO  ESC. M3/SEG.\n",
      "valid_time                             \n",
      "1951-08-01  14  AGO  1951  2.16    13.9\n",
      "1951-09-01  17  SET  1951  2.24    18.4\n",
      "1951-10-01  31  OCT  1951  2.29    21.8\n",
      "1951-11-01  30  NOV  1951  2.20    15.9\n",
      "1951-12-01  15  DIC  1951  2.23    17.6\n",
      "...         ..  ...   ...   ...     ...\n",
      "1992-12-01   1  DIC  1992   NaN    8.67\n",
      "1993-01-01  31  ENE  1993   NaN    8.45\n",
      "1993-02-01  25  FEB  1993   NaN    5.34\n",
      "1993-03-01  16  MAR  1993   NaN    4.13\n",
      "1993-04-01   4  ABR  1993   NaN    3.96\n",
      "\n",
      "[393 rows x 5 columns]\n"
     ]
    }
   ],
   "source": [
    "print(df_caudal)"
   ]
  },
  {
   "cell_type": "code",
   "execution_count": 107,
   "id": "c5452ec3-70d4-412c-8d5c-48469f20febd",
   "metadata": {},
   "outputs": [
    {
     "data": {
      "text/plain": [
       "DIA          7\n",
       "MES          0\n",
       "ANO          0\n",
       "ESC.       372\n",
       "M3/SEG.      7\n",
       "dtype: int64"
      ]
     },
     "execution_count": 107,
     "metadata": {},
     "output_type": "execute_result"
    }
   ],
   "source": [
    "df_caudal.isnull().sum()"
   ]
  },
  {
   "cell_type": "code",
   "execution_count": 131,
   "id": "90ac243e-52ff-49a8-b508-5a56e2810149",
   "metadata": {},
   "outputs": [],
   "source": [
    "df_completo_guardia = pd.concat([df_era, df_caudal], axis=1)"
   ]
  },
  {
   "cell_type": "code",
   "execution_count": 135,
   "id": "c07f1c9f-50c4-4211-99a4-96c36a0253e0",
   "metadata": {},
   "outputs": [
    {
     "data": {
      "text/plain": [
       "Index(['latitude', 'longitude', 'temp_celsius', 'viento', 'prep', 'DIA', 'MES',\n",
       "       'ANO', 'ESC.', 'M3/SEG.'],\n",
       "      dtype='object')"
      ]
     },
     "execution_count": 135,
     "metadata": {},
     "output_type": "execute_result"
    }
   ],
   "source": [
    "df_completo_guardia.columns"
   ]
  },
  {
   "cell_type": "code",
   "execution_count": 139,
   "id": "f3737f38-28d4-426b-80c7-38cd3cfcb0ea",
   "metadata": {},
   "outputs": [],
   "source": [
    "df_completo_guardia = df_completo_guardia.drop(columns = ['DIA', 'MES', 'ANO','ESC.'])"
   ]
  },
  {
   "cell_type": "code",
   "execution_count": 141,
   "id": "cef30c96-abc8-42aa-89ff-ed66f9f65bb2",
   "metadata": {},
   "outputs": [],
   "source": [
    "df_completo_guardia['caudal'] = df_completo_guardia['M3/SEG.']\n",
    "df_completo_guardia = df_completo_guardia.drop(columns='M3/SEG.')"
   ]
  },
  {
   "cell_type": "code",
   "execution_count": 145,
   "id": "fa0a8bb8-51ef-465e-83a1-6e511bd0cb57",
   "metadata": {},
   "outputs": [
    {
     "name": "stdout",
     "output_type": "stream",
     "text": [
      "            latitude  longitude  temp_celsius    viento      prep caudal\n",
      "valid_time                                                              \n",
      "1950-01-01     10.76     -85.55     23.832794 -3.852243  0.000246    NaN\n",
      "1950-02-01     10.76     -85.55     24.407501 -3.620109  0.000154    NaN\n",
      "1950-03-01     10.76     -85.55     25.121979 -2.654545  0.001387    NaN\n",
      "1950-04-01     10.76     -85.55     26.272980 -2.559180  0.000189    NaN\n",
      "1950-05-01     10.76     -85.55     25.653961 -1.432683  0.003690    NaN\n",
      "1950-06-01     10.76     -85.55     24.314606 -0.992564  0.013978    NaN\n",
      "1950-07-01     10.76     -85.55     24.053192 -1.675662  0.006791    NaN\n",
      "1950-08-01     10.76     -85.55     23.818695 -0.936580  0.013640    NaN\n",
      "1950-09-01     10.76     -85.55     24.363861 -0.462308  0.009680    NaN\n",
      "1950-10-01     10.76     -85.55     23.302338  0.017582  0.018618    NaN\n",
      "1950-11-01     10.76     -85.55     23.654877 -2.241338  0.003848    NaN\n",
      "1950-12-01     10.76     -85.55     23.772247 -3.098127  0.000769    NaN\n",
      "1951-01-01     10.76     -85.55     24.204376 -3.315683  0.000169    NaN\n",
      "1951-02-01     10.76     -85.55     24.060333 -4.184981  0.000435    NaN\n",
      "1951-03-01     10.76     -85.55     25.415802 -3.317168  0.000086    NaN\n",
      "1951-04-01     10.76     -85.55     26.785431 -1.536989  0.001805    NaN\n",
      "1951-05-01     10.76     -85.55     26.360565 -0.948920  0.004879    NaN\n",
      "1951-06-01     10.76     -85.55     25.453461 -1.496004  0.007206    NaN\n",
      "1951-07-01     10.76     -85.55     25.276093 -1.872517  0.004221    NaN\n",
      "1951-08-01     10.76     -85.55     25.447357 -1.390713  0.007476   13.9\n"
     ]
    }
   ],
   "source": [
    "print(df_completo_guardia.head(20))"
   ]
  },
  {
   "cell_type": "code",
   "execution_count": 147,
   "id": "a880b5e1-12f7-417c-b6d3-f7f6df72b2af",
   "metadata": {},
   "outputs": [
    {
     "data": {
      "text/plain": [
       "latitude          0\n",
       "longitude         0\n",
       "temp_celsius      0\n",
       "viento            0\n",
       "prep              0\n",
       "caudal          518\n",
       "dtype: int64"
      ]
     },
     "execution_count": 147,
     "metadata": {},
     "output_type": "execute_result"
    }
   ],
   "source": [
    "df_completo_guardia.isnull().sum()"
   ]
  },
  {
   "cell_type": "code",
   "execution_count": 149,
   "id": "8b72d108-573f-4e81-b221-2296d832368e",
   "metadata": {},
   "outputs": [],
   "source": [
    "df_completo_guardia.to_excel(\"nueva_base_guardia.xlsx\")"
   ]
  },
  {
   "cell_type": "code",
   "execution_count": 153,
   "id": "c4e5cd7e-cc84-4082-9670-0712c18ae95f",
   "metadata": {},
   "outputs": [
    {
     "data": {
      "text/plain": [
       "array(['1950-01-01T00:00:00.000000000', '1950-02-01T00:00:00.000000000',\n",
       "       '1950-03-01T00:00:00.000000000', '1950-04-01T00:00:00.000000000',\n",
       "       '1950-05-01T00:00:00.000000000', '1950-06-01T00:00:00.000000000',\n",
       "       '1950-07-01T00:00:00.000000000', '1950-08-01T00:00:00.000000000',\n",
       "       '1950-09-01T00:00:00.000000000', '1950-10-01T00:00:00.000000000',\n",
       "       '1950-11-01T00:00:00.000000000', '1950-12-01T00:00:00.000000000',\n",
       "       '1951-01-01T00:00:00.000000000', '1951-02-01T00:00:00.000000000',\n",
       "       '1951-03-01T00:00:00.000000000', '1951-04-01T00:00:00.000000000',\n",
       "       '1951-05-01T00:00:00.000000000', '1951-06-01T00:00:00.000000000',\n",
       "       '1951-07-01T00:00:00.000000000', '1970-05-01T00:00:00.000000000',\n",
       "       '1970-06-01T00:00:00.000000000', '1970-07-01T00:00:00.000000000',\n",
       "       '1970-08-01T00:00:00.000000000', '1970-09-01T00:00:00.000000000',\n",
       "       '1970-10-01T00:00:00.000000000', '1970-11-01T00:00:00.000000000',\n",
       "       '1970-12-01T00:00:00.000000000', '1971-01-01T00:00:00.000000000',\n",
       "       '1971-02-01T00:00:00.000000000', '1971-03-01T00:00:00.000000000',\n",
       "       '1971-04-01T00:00:00.000000000', '1971-05-01T00:00:00.000000000',\n",
       "       '1971-06-01T00:00:00.000000000', '1971-07-01T00:00:00.000000000',\n",
       "       '1971-08-01T00:00:00.000000000', '1971-09-01T00:00:00.000000000',\n",
       "       '1971-10-01T00:00:00.000000000', '1971-11-01T00:00:00.000000000',\n",
       "       '1971-12-01T00:00:00.000000000', '1972-01-01T00:00:00.000000000',\n",
       "       '1972-02-01T00:00:00.000000000', '1972-03-01T00:00:00.000000000',\n",
       "       '1972-04-01T00:00:00.000000000', '1972-05-01T00:00:00.000000000',\n",
       "       '1972-06-01T00:00:00.000000000', '1972-07-01T00:00:00.000000000',\n",
       "       '1972-08-01T00:00:00.000000000', '1972-09-01T00:00:00.000000000',\n",
       "       '1972-10-01T00:00:00.000000000', '1972-11-01T00:00:00.000000000',\n",
       "       '1972-12-01T00:00:00.000000000', '1973-01-01T00:00:00.000000000',\n",
       "       '1973-02-01T00:00:00.000000000', '1973-03-01T00:00:00.000000000',\n",
       "       '1973-04-01T00:00:00.000000000', '1973-05-01T00:00:00.000000000',\n",
       "       '1973-06-01T00:00:00.000000000', '1973-07-01T00:00:00.000000000',\n",
       "       '1973-08-01T00:00:00.000000000', '1973-09-01T00:00:00.000000000',\n",
       "       '1973-10-01T00:00:00.000000000', '1973-11-01T00:00:00.000000000',\n",
       "       '1973-12-01T00:00:00.000000000', '1974-01-01T00:00:00.000000000',\n",
       "       '1974-02-01T00:00:00.000000000', '1974-03-01T00:00:00.000000000',\n",
       "       '1974-04-01T00:00:00.000000000', '1974-05-01T00:00:00.000000000',\n",
       "       '1974-06-01T00:00:00.000000000', '1974-07-01T00:00:00.000000000',\n",
       "       '1974-08-01T00:00:00.000000000', '1974-09-01T00:00:00.000000000',\n",
       "       '1974-10-01T00:00:00.000000000', '1974-11-01T00:00:00.000000000',\n",
       "       '1974-12-01T00:00:00.000000000', '1975-01-01T00:00:00.000000000',\n",
       "       '1975-02-01T00:00:00.000000000', '1975-03-01T00:00:00.000000000',\n",
       "       '1975-04-01T00:00:00.000000000', '1975-05-01T00:00:00.000000000',\n",
       "       '1975-06-01T00:00:00.000000000', '1975-07-01T00:00:00.000000000',\n",
       "       '1975-08-01T00:00:00.000000000', '1975-09-01T00:00:00.000000000',\n",
       "       '1975-10-01T00:00:00.000000000', '1975-11-01T00:00:00.000000000',\n",
       "       '1975-12-01T00:00:00.000000000', '1976-01-01T00:00:00.000000000',\n",
       "       '1976-02-01T00:00:00.000000000', '1976-03-01T00:00:00.000000000',\n",
       "       '1976-04-01T00:00:00.000000000', '1976-05-01T00:00:00.000000000',\n",
       "       '1976-06-01T00:00:00.000000000', '1976-07-01T00:00:00.000000000',\n",
       "       '1976-08-01T00:00:00.000000000', '1976-09-01T00:00:00.000000000',\n",
       "       '1976-10-01T00:00:00.000000000', '1976-11-01T00:00:00.000000000',\n",
       "       '1976-12-01T00:00:00.000000000', '1977-01-01T00:00:00.000000000',\n",
       "       '1977-02-01T00:00:00.000000000', '1977-03-01T00:00:00.000000000',\n",
       "       '1977-04-01T00:00:00.000000000', '1977-05-01T00:00:00.000000000',\n",
       "       '1977-06-01T00:00:00.000000000', '1977-07-01T00:00:00.000000000',\n",
       "       '1977-08-01T00:00:00.000000000', '1977-09-01T00:00:00.000000000',\n",
       "       '1977-10-01T00:00:00.000000000', '1977-11-01T00:00:00.000000000',\n",
       "       '1977-12-01T00:00:00.000000000', '1978-01-01T00:00:00.000000000',\n",
       "       '1978-02-01T00:00:00.000000000', '1978-03-01T00:00:00.000000000',\n",
       "       '1978-04-01T00:00:00.000000000', '1978-05-01T00:00:00.000000000',\n",
       "       '1978-06-01T00:00:00.000000000', '1978-07-01T00:00:00.000000000',\n",
       "       '1978-08-01T00:00:00.000000000', '1978-09-01T00:00:00.000000000',\n",
       "       '1978-10-01T00:00:00.000000000', '1978-11-01T00:00:00.000000000',\n",
       "       '1978-12-01T00:00:00.000000000', '1979-01-01T00:00:00.000000000',\n",
       "       '1979-02-01T00:00:00.000000000', '1979-03-01T00:00:00.000000000',\n",
       "       '1979-04-01T00:00:00.000000000', '1979-05-01T00:00:00.000000000',\n",
       "       '1979-06-01T00:00:00.000000000', '1979-07-01T00:00:00.000000000',\n",
       "       '1979-08-01T00:00:00.000000000', '1979-09-01T00:00:00.000000000',\n",
       "       '1982-06-01T00:00:00.000000000', '1982-08-01T00:00:00.000000000',\n",
       "       '1993-05-01T00:00:00.000000000', '1993-06-01T00:00:00.000000000',\n",
       "       '1993-07-01T00:00:00.000000000', '1993-08-01T00:00:00.000000000',\n",
       "       '1993-09-01T00:00:00.000000000', '1993-10-01T00:00:00.000000000',\n",
       "       '1993-11-01T00:00:00.000000000', '1993-12-01T00:00:00.000000000',\n",
       "       '1994-01-01T00:00:00.000000000', '1994-02-01T00:00:00.000000000',\n",
       "       '1994-03-01T00:00:00.000000000', '1994-04-01T00:00:00.000000000',\n",
       "       '1994-05-01T00:00:00.000000000', '1994-06-01T00:00:00.000000000',\n",
       "       '1994-07-01T00:00:00.000000000', '1994-08-01T00:00:00.000000000',\n",
       "       '1994-09-01T00:00:00.000000000', '1994-10-01T00:00:00.000000000',\n",
       "       '1994-11-01T00:00:00.000000000', '1994-12-01T00:00:00.000000000',\n",
       "       '1995-01-01T00:00:00.000000000', '1995-02-01T00:00:00.000000000',\n",
       "       '1995-03-01T00:00:00.000000000', '1995-04-01T00:00:00.000000000',\n",
       "       '1995-05-01T00:00:00.000000000', '1995-06-01T00:00:00.000000000',\n",
       "       '1995-07-01T00:00:00.000000000', '1995-08-01T00:00:00.000000000',\n",
       "       '1995-09-01T00:00:00.000000000', '1995-10-01T00:00:00.000000000',\n",
       "       '1995-11-01T00:00:00.000000000', '1995-12-01T00:00:00.000000000',\n",
       "       '1996-01-01T00:00:00.000000000', '1996-02-01T00:00:00.000000000',\n",
       "       '1996-03-01T00:00:00.000000000', '1996-04-01T00:00:00.000000000',\n",
       "       '1996-05-01T00:00:00.000000000', '1996-06-01T00:00:00.000000000',\n",
       "       '1996-07-01T00:00:00.000000000', '1996-08-01T00:00:00.000000000',\n",
       "       '1996-09-01T00:00:00.000000000', '1996-10-01T00:00:00.000000000',\n",
       "       '1996-11-01T00:00:00.000000000', '1996-12-01T00:00:00.000000000',\n",
       "       '1997-01-01T00:00:00.000000000', '1997-02-01T00:00:00.000000000',\n",
       "       '1997-03-01T00:00:00.000000000', '1997-04-01T00:00:00.000000000',\n",
       "       '1997-05-01T00:00:00.000000000', '1997-06-01T00:00:00.000000000',\n",
       "       '1997-07-01T00:00:00.000000000', '1997-08-01T00:00:00.000000000',\n",
       "       '1997-09-01T00:00:00.000000000', '1997-10-01T00:00:00.000000000',\n",
       "       '1997-11-01T00:00:00.000000000', '1997-12-01T00:00:00.000000000',\n",
       "       '1998-01-01T00:00:00.000000000', '1998-02-01T00:00:00.000000000',\n",
       "       '1998-03-01T00:00:00.000000000', '1998-04-01T00:00:00.000000000',\n",
       "       '1998-05-01T00:00:00.000000000', '1998-06-01T00:00:00.000000000',\n",
       "       '1998-07-01T00:00:00.000000000', '1998-08-01T00:00:00.000000000',\n",
       "       '1998-09-01T00:00:00.000000000', '1998-10-01T00:00:00.000000000',\n",
       "       '1998-11-01T00:00:00.000000000', '1998-12-01T00:00:00.000000000',\n",
       "       '1999-01-01T00:00:00.000000000', '1999-02-01T00:00:00.000000000',\n",
       "       '1999-03-01T00:00:00.000000000', '1999-04-01T00:00:00.000000000',\n",
       "       '1999-05-01T00:00:00.000000000', '1999-06-01T00:00:00.000000000',\n",
       "       '1999-07-01T00:00:00.000000000', '1999-08-01T00:00:00.000000000',\n",
       "       '1999-09-01T00:00:00.000000000', '1999-10-01T00:00:00.000000000',\n",
       "       '1999-11-01T00:00:00.000000000', '1999-12-01T00:00:00.000000000',\n",
       "       '2000-01-01T00:00:00.000000000', '2000-02-01T00:00:00.000000000',\n",
       "       '2000-03-01T00:00:00.000000000', '2000-04-01T00:00:00.000000000',\n",
       "       '2000-05-01T00:00:00.000000000', '2000-06-01T00:00:00.000000000',\n",
       "       '2000-07-01T00:00:00.000000000', '2000-08-01T00:00:00.000000000',\n",
       "       '2000-09-01T00:00:00.000000000', '2000-10-01T00:00:00.000000000',\n",
       "       '2000-11-01T00:00:00.000000000', '2000-12-01T00:00:00.000000000',\n",
       "       '2001-01-01T00:00:00.000000000', '2001-02-01T00:00:00.000000000',\n",
       "       '2001-03-01T00:00:00.000000000', '2001-04-01T00:00:00.000000000',\n",
       "       '2001-05-01T00:00:00.000000000', '2001-06-01T00:00:00.000000000',\n",
       "       '2001-07-01T00:00:00.000000000', '2001-08-01T00:00:00.000000000',\n",
       "       '2001-09-01T00:00:00.000000000', '2001-10-01T00:00:00.000000000',\n",
       "       '2001-11-01T00:00:00.000000000', '2001-12-01T00:00:00.000000000',\n",
       "       '2002-01-01T00:00:00.000000000', '2002-02-01T00:00:00.000000000',\n",
       "       '2002-03-01T00:00:00.000000000', '2002-04-01T00:00:00.000000000',\n",
       "       '2002-05-01T00:00:00.000000000', '2002-06-01T00:00:00.000000000',\n",
       "       '2002-07-01T00:00:00.000000000', '2002-08-01T00:00:00.000000000',\n",
       "       '2002-09-01T00:00:00.000000000', '2002-10-01T00:00:00.000000000',\n",
       "       '2002-11-01T00:00:00.000000000', '2002-12-01T00:00:00.000000000',\n",
       "       '2003-01-01T00:00:00.000000000', '2003-02-01T00:00:00.000000000',\n",
       "       '2003-03-01T00:00:00.000000000', '2003-04-01T00:00:00.000000000',\n",
       "       '2003-05-01T00:00:00.000000000', '2003-06-01T00:00:00.000000000',\n",
       "       '2003-07-01T00:00:00.000000000', '2003-08-01T00:00:00.000000000',\n",
       "       '2003-09-01T00:00:00.000000000', '2003-10-01T00:00:00.000000000',\n",
       "       '2003-11-01T00:00:00.000000000', '2003-12-01T00:00:00.000000000',\n",
       "       '2004-01-01T00:00:00.000000000', '2004-02-01T00:00:00.000000000',\n",
       "       '2004-03-01T00:00:00.000000000', '2004-04-01T00:00:00.000000000',\n",
       "       '2004-05-01T00:00:00.000000000', '2004-06-01T00:00:00.000000000',\n",
       "       '2004-07-01T00:00:00.000000000', '2004-08-01T00:00:00.000000000',\n",
       "       '2004-09-01T00:00:00.000000000', '2004-10-01T00:00:00.000000000',\n",
       "       '2004-11-01T00:00:00.000000000', '2004-12-01T00:00:00.000000000',\n",
       "       '2005-01-01T00:00:00.000000000', '2005-02-01T00:00:00.000000000',\n",
       "       '2005-03-01T00:00:00.000000000', '2005-04-01T00:00:00.000000000',\n",
       "       '2005-05-01T00:00:00.000000000', '2005-06-01T00:00:00.000000000',\n",
       "       '2005-07-01T00:00:00.000000000', '2005-08-01T00:00:00.000000000',\n",
       "       '2005-09-01T00:00:00.000000000', '2005-10-01T00:00:00.000000000',\n",
       "       '2005-11-01T00:00:00.000000000', '2005-12-01T00:00:00.000000000',\n",
       "       '2006-01-01T00:00:00.000000000', '2006-02-01T00:00:00.000000000',\n",
       "       '2006-03-01T00:00:00.000000000', '2006-04-01T00:00:00.000000000',\n",
       "       '2006-05-01T00:00:00.000000000', '2006-06-01T00:00:00.000000000',\n",
       "       '2006-07-01T00:00:00.000000000', '2006-08-01T00:00:00.000000000',\n",
       "       '2006-09-01T00:00:00.000000000', '2006-10-01T00:00:00.000000000',\n",
       "       '2006-11-01T00:00:00.000000000', '2006-12-01T00:00:00.000000000',\n",
       "       '2007-01-01T00:00:00.000000000', '2007-02-01T00:00:00.000000000',\n",
       "       '2007-03-01T00:00:00.000000000', '2007-04-01T00:00:00.000000000',\n",
       "       '2007-05-01T00:00:00.000000000', '2007-06-01T00:00:00.000000000',\n",
       "       '2007-07-01T00:00:00.000000000', '2007-08-01T00:00:00.000000000',\n",
       "       '2007-09-01T00:00:00.000000000', '2007-10-01T00:00:00.000000000',\n",
       "       '2007-11-01T00:00:00.000000000', '2007-12-01T00:00:00.000000000',\n",
       "       '2008-01-01T00:00:00.000000000', '2008-02-01T00:00:00.000000000',\n",
       "       '2008-03-01T00:00:00.000000000', '2008-04-01T00:00:00.000000000',\n",
       "       '2008-05-01T00:00:00.000000000', '2008-06-01T00:00:00.000000000',\n",
       "       '2008-07-01T00:00:00.000000000', '2008-08-01T00:00:00.000000000',\n",
       "       '2008-09-01T00:00:00.000000000', '2008-10-01T00:00:00.000000000',\n",
       "       '2008-11-01T00:00:00.000000000', '2008-12-01T00:00:00.000000000',\n",
       "       '2009-01-01T00:00:00.000000000', '2009-02-01T00:00:00.000000000',\n",
       "       '2009-03-01T00:00:00.000000000', '2009-04-01T00:00:00.000000000',\n",
       "       '2009-05-01T00:00:00.000000000', '2009-06-01T00:00:00.000000000',\n",
       "       '2009-07-01T00:00:00.000000000', '2009-08-01T00:00:00.000000000',\n",
       "       '2009-09-01T00:00:00.000000000', '2009-10-01T00:00:00.000000000',\n",
       "       '2009-11-01T00:00:00.000000000', '2009-12-01T00:00:00.000000000',\n",
       "       '2010-01-01T00:00:00.000000000', '2010-02-01T00:00:00.000000000',\n",
       "       '2010-03-01T00:00:00.000000000', '2010-04-01T00:00:00.000000000',\n",
       "       '2010-05-01T00:00:00.000000000', '2010-06-01T00:00:00.000000000',\n",
       "       '2010-07-01T00:00:00.000000000', '2010-08-01T00:00:00.000000000',\n",
       "       '2010-09-01T00:00:00.000000000', '2010-10-01T00:00:00.000000000',\n",
       "       '2010-11-01T00:00:00.000000000', '2010-12-01T00:00:00.000000000',\n",
       "       '2011-01-01T00:00:00.000000000', '2011-02-01T00:00:00.000000000',\n",
       "       '2011-03-01T00:00:00.000000000', '2011-04-01T00:00:00.000000000',\n",
       "       '2011-05-01T00:00:00.000000000', '2011-06-01T00:00:00.000000000',\n",
       "       '2011-07-01T00:00:00.000000000', '2011-08-01T00:00:00.000000000',\n",
       "       '2011-09-01T00:00:00.000000000', '2011-10-01T00:00:00.000000000',\n",
       "       '2011-11-01T00:00:00.000000000', '2011-12-01T00:00:00.000000000',\n",
       "       '2012-01-01T00:00:00.000000000', '2012-02-01T00:00:00.000000000',\n",
       "       '2012-03-01T00:00:00.000000000', '2012-04-01T00:00:00.000000000',\n",
       "       '2012-05-01T00:00:00.000000000', '2012-06-01T00:00:00.000000000',\n",
       "       '2012-07-01T00:00:00.000000000', '2012-08-01T00:00:00.000000000',\n",
       "       '2012-09-01T00:00:00.000000000', '2012-10-01T00:00:00.000000000',\n",
       "       '2012-11-01T00:00:00.000000000', '2012-12-01T00:00:00.000000000',\n",
       "       '2013-01-01T00:00:00.000000000', '2013-02-01T00:00:00.000000000',\n",
       "       '2013-03-01T00:00:00.000000000', '2013-04-01T00:00:00.000000000',\n",
       "       '2013-05-01T00:00:00.000000000', '2013-06-01T00:00:00.000000000',\n",
       "       '2013-07-01T00:00:00.000000000', '2013-08-01T00:00:00.000000000',\n",
       "       '2013-09-01T00:00:00.000000000', '2013-10-01T00:00:00.000000000',\n",
       "       '2013-11-01T00:00:00.000000000', '2013-12-01T00:00:00.000000000',\n",
       "       '2014-01-01T00:00:00.000000000', '2014-02-01T00:00:00.000000000',\n",
       "       '2014-03-01T00:00:00.000000000', '2014-04-01T00:00:00.000000000',\n",
       "       '2014-05-01T00:00:00.000000000', '2014-06-01T00:00:00.000000000',\n",
       "       '2014-07-01T00:00:00.000000000', '2014-08-01T00:00:00.000000000',\n",
       "       '2014-09-01T00:00:00.000000000', '2014-10-01T00:00:00.000000000',\n",
       "       '2014-11-01T00:00:00.000000000', '2014-12-01T00:00:00.000000000',\n",
       "       '2015-01-01T00:00:00.000000000', '2015-02-01T00:00:00.000000000',\n",
       "       '2015-03-01T00:00:00.000000000', '2015-04-01T00:00:00.000000000',\n",
       "       '2015-05-01T00:00:00.000000000', '2015-06-01T00:00:00.000000000',\n",
       "       '2015-07-01T00:00:00.000000000', '2015-08-01T00:00:00.000000000',\n",
       "       '2015-09-01T00:00:00.000000000', '2015-10-01T00:00:00.000000000',\n",
       "       '2015-11-01T00:00:00.000000000', '2015-12-01T00:00:00.000000000',\n",
       "       '2016-01-01T00:00:00.000000000', '2016-02-01T00:00:00.000000000',\n",
       "       '2016-03-01T00:00:00.000000000', '2016-04-01T00:00:00.000000000',\n",
       "       '2016-05-01T00:00:00.000000000', '2016-06-01T00:00:00.000000000',\n",
       "       '2016-07-01T00:00:00.000000000', '2016-08-01T00:00:00.000000000',\n",
       "       '2016-09-01T00:00:00.000000000', '2016-10-01T00:00:00.000000000',\n",
       "       '2016-11-01T00:00:00.000000000', '2016-12-01T00:00:00.000000000',\n",
       "       '2017-01-01T00:00:00.000000000', '2017-02-01T00:00:00.000000000',\n",
       "       '2017-03-01T00:00:00.000000000', '2017-04-01T00:00:00.000000000',\n",
       "       '2017-05-01T00:00:00.000000000', '2017-06-01T00:00:00.000000000',\n",
       "       '2017-07-01T00:00:00.000000000', '2017-08-01T00:00:00.000000000',\n",
       "       '2017-09-01T00:00:00.000000000', '2017-10-01T00:00:00.000000000',\n",
       "       '2017-11-01T00:00:00.000000000', '2017-12-01T00:00:00.000000000',\n",
       "       '2018-01-01T00:00:00.000000000', '2018-02-01T00:00:00.000000000',\n",
       "       '2018-03-01T00:00:00.000000000', '2018-04-01T00:00:00.000000000',\n",
       "       '2018-05-01T00:00:00.000000000', '2018-06-01T00:00:00.000000000',\n",
       "       '2018-07-01T00:00:00.000000000', '2018-08-01T00:00:00.000000000',\n",
       "       '2018-09-01T00:00:00.000000000', '2018-10-01T00:00:00.000000000',\n",
       "       '2018-11-01T00:00:00.000000000', '2018-12-01T00:00:00.000000000',\n",
       "       '2019-01-01T00:00:00.000000000', '2019-02-01T00:00:00.000000000',\n",
       "       '2019-03-01T00:00:00.000000000', '2019-04-01T00:00:00.000000000',\n",
       "       '2019-05-01T00:00:00.000000000', '2019-06-01T00:00:00.000000000',\n",
       "       '2019-07-01T00:00:00.000000000', '2019-08-01T00:00:00.000000000',\n",
       "       '2019-09-01T00:00:00.000000000', '2019-10-01T00:00:00.000000000',\n",
       "       '2019-11-01T00:00:00.000000000', '2019-12-01T00:00:00.000000000',\n",
       "       '2020-01-01T00:00:00.000000000', '2020-02-01T00:00:00.000000000',\n",
       "       '2020-03-01T00:00:00.000000000', '2020-04-01T00:00:00.000000000',\n",
       "       '2020-05-01T00:00:00.000000000', '2020-06-01T00:00:00.000000000',\n",
       "       '2020-07-01T00:00:00.000000000', '2020-08-01T00:00:00.000000000',\n",
       "       '2020-09-01T00:00:00.000000000', '2020-10-01T00:00:00.000000000',\n",
       "       '2020-11-01T00:00:00.000000000', '2020-12-01T00:00:00.000000000',\n",
       "       '2021-01-01T00:00:00.000000000', '2021-02-01T00:00:00.000000000',\n",
       "       '2021-03-01T00:00:00.000000000', '2021-04-01T00:00:00.000000000',\n",
       "       '2021-05-01T00:00:00.000000000', '2021-06-01T00:00:00.000000000',\n",
       "       '2021-07-01T00:00:00.000000000', '2021-08-01T00:00:00.000000000',\n",
       "       '2021-09-01T00:00:00.000000000', '2021-10-01T00:00:00.000000000',\n",
       "       '2021-11-01T00:00:00.000000000', '2021-12-01T00:00:00.000000000',\n",
       "       '2022-01-01T00:00:00.000000000', '2022-02-01T00:00:00.000000000',\n",
       "       '2022-03-01T00:00:00.000000000', '2022-04-01T00:00:00.000000000',\n",
       "       '2022-05-01T00:00:00.000000000', '2022-06-01T00:00:00.000000000',\n",
       "       '2022-07-01T00:00:00.000000000', '2022-08-01T00:00:00.000000000',\n",
       "       '2022-09-01T00:00:00.000000000', '2022-10-01T00:00:00.000000000',\n",
       "       '2022-11-01T00:00:00.000000000', '2022-12-01T00:00:00.000000000',\n",
       "       '2023-01-01T00:00:00.000000000', '2023-02-01T00:00:00.000000000',\n",
       "       '2023-03-01T00:00:00.000000000', '2023-04-01T00:00:00.000000000',\n",
       "       '2023-05-01T00:00:00.000000000', '2023-06-01T00:00:00.000000000',\n",
       "       '2023-07-01T00:00:00.000000000', '2023-08-01T00:00:00.000000000',\n",
       "       '2023-09-01T00:00:00.000000000', '2023-10-01T00:00:00.000000000',\n",
       "       '2023-11-01T00:00:00.000000000', '2023-12-01T00:00:00.000000000',\n",
       "       '2024-01-01T00:00:00.000000000', '2024-02-01T00:00:00.000000000',\n",
       "       '2024-03-01T00:00:00.000000000', '2024-04-01T00:00:00.000000000',\n",
       "       '2024-05-01T00:00:00.000000000', '2024-06-01T00:00:00.000000000',\n",
       "       '2024-07-01T00:00:00.000000000', '2024-08-01T00:00:00.000000000',\n",
       "       '2024-09-01T00:00:00.000000000', '2024-10-01T00:00:00.000000000',\n",
       "       '2024-11-01T00:00:00.000000000', '2024-12-01T00:00:00.000000000',\n",
       "       '2025-01-01T00:00:00.000000000', '2025-02-01T00:00:00.000000000',\n",
       "       '2025-03-01T00:00:00.000000000', '2025-04-01T00:00:00.000000000'],\n",
       "      dtype='datetime64[ns]')"
      ]
     },
     "execution_count": 153,
     "metadata": {},
     "output_type": "execute_result"
    }
   ],
   "source": [
    "df_completo_guardia[df_completo_guardia.isnull().any(axis=1)].index.values"
   ]
  },
  {
   "cell_type": "code",
   "execution_count": 339,
   "id": "8fa231a4-9cbb-4872-a485-02094046a313",
   "metadata": {},
   "outputs": [],
   "source": [
    "df_min = pd.read_csv(r\"C:\\Users\\andre\\OneDrive\\Escritorio\\Cuencas\\Brujo\\BrujoDiarios(in).csv\")"
   ]
  },
  {
   "cell_type": "code",
   "execution_count": 341,
   "id": "aaf871ae-0f8d-4d46-af10-d01944d02ee9",
   "metadata": {},
   "outputs": [
    {
     "name": "stdout",
     "output_type": "stream",
     "text": [
      "      Dia  Mes   Ano Caudal_Diario\n",
      "0      27  SET  1968        331.55\n",
      "1      28  SET  1968        365.16\n",
      "2      29  SET  1968        301.37\n",
      "3      30  SET  1968        264.23\n",
      "4      31  SET  1968           NaN\n",
      "...   ...  ...   ...           ...\n",
      "8773   27  ABR  1993          89.8\n",
      "8774   28  ABR  1993          94.6\n",
      "8775   29  ABR  1993           116\n",
      "8776   30  ABR  1993           154\n",
      "8777   31  ABR  1993           NaN\n",
      "\n",
      "[8778 rows x 4 columns]\n"
     ]
    }
   ],
   "source": [
    "print(df_min)"
   ]
  },
  {
   "cell_type": "code",
   "execution_count": 343,
   "id": "c2fff31c-1e1d-43df-b296-238bf9275eac",
   "metadata": {},
   "outputs": [],
   "source": [
    "meses_map = {\n",
    "        'ENE': '01', 'FEB': '02', 'MAR': '03', 'ABR': '04',\n",
    "        'MAY': '05', 'JUN': '06', 'JUL': '07', 'AGO': '08',\n",
    "        'SET': '09', 'SEP': '09', 'OCT': '10', 'NOV': '11', 'DIC': '12'\n",
    "    }\n",
    "df_min['Mes']=df_min['Mes'].str.upper().map(meses_map)\n",
    "\n",
    "df_min = df_min.dropna(subset = ['Caudal_Diario'])"
   ]
  },
  {
   "cell_type": "code",
   "execution_count": 347,
   "id": "1b69854e-c63d-4bde-98e4-ce82a806c695",
   "metadata": {},
   "outputs": [],
   "source": [
    "\n",
    "df_min['Fecha'] = pd.to_datetime(df_min['Ano'].astype(str) + '-' + df_min['Mes'] + '-01', format='%Y-%m-%d')\n",
    "\n",
    "df_min['Mes_Ano'] = df_min['Fecha'].dt.to_period('M')\n",
    "minimos = df_min.groupby('Mes_Ano')['Caudal_Diario'].min().reset_index()\n",
    "minimos['Fecha'] = minimos['Mes_Ano'].dt.to_timestamp()\n",
    "minimos = minimos[['Fecha', 'Caudal_Diario']]"
   ]
  },
  {
   "cell_type": "code",
   "execution_count": 349,
   "id": "0139a7bd-2ba4-498f-8945-af1ec46ca0c4",
   "metadata": {},
   "outputs": [
    {
     "data": {
      "text/plain": [
       "Index(['Dia', 'Mes', 'Ano', 'Caudal_Diario', 'Fecha', 'Mes_Ano'], dtype='object')"
      ]
     },
     "execution_count": 349,
     "metadata": {},
     "output_type": "execute_result"
    }
   ],
   "source": [
    "df_min.columns"
   ]
  },
  {
   "cell_type": "code",
   "execution_count": 353,
   "id": "7e40c189-dfc5-4281-bfee-19a11521c0da",
   "metadata": {},
   "outputs": [],
   "source": [
    "df_min = df_min.drop(columns = ['Dia', 'Mes', 'Ano', 'Mes_Ano'])"
   ]
  },
  {
   "cell_type": "code",
   "execution_count": 355,
   "id": "afc24e5d-521c-4534-95a5-a1ef1b553e80",
   "metadata": {},
   "outputs": [
    {
     "name": "stdout",
     "output_type": "stream",
     "text": [
      "            latitude  longitude  temp_celsius    viento      prep\n",
      "valid_time                                                       \n",
      "1950-01-01      9.27     -83.51     18.453033 -0.379110  0.003800\n",
      "1950-02-01      9.27     -83.51     19.064117 -0.224303  0.010912\n",
      "1950-03-01      9.27     -83.51     19.888580 -0.098942  0.007686\n",
      "1950-04-01      9.27     -83.51     19.979156 -0.127550  0.005268\n",
      "1950-05-01      9.27     -83.51     19.736481 -0.165956  0.026215\n",
      "...              ...        ...           ...       ...       ...\n",
      "2024-12-01      9.27     -83.51     19.991608 -0.288862  0.009731\n",
      "2025-01-01      9.27     -83.51     19.821686 -0.348227  0.003635\n",
      "2025-02-01      9.27     -83.51     20.288239 -0.297166  0.004517\n",
      "2025-03-01      9.27     -83.51     21.349518 -0.191571  0.001858\n",
      "2025-04-01      9.27     -83.51     21.323395 -0.182125  0.007708\n",
      "\n",
      "[904 rows x 5 columns]\n",
      "           Caudal_Diario\n",
      "Fecha                   \n",
      "1968-09-01        331.55\n",
      "1968-09-01        365.16\n",
      "1968-09-01        301.37\n",
      "1968-09-01        264.23\n",
      "1968-10-01        303.42\n",
      "...                  ...\n",
      "1993-04-01            80\n",
      "1993-04-01          89.8\n",
      "1993-04-01          94.6\n",
      "1993-04-01           116\n",
      "1993-04-01           154\n",
      "\n",
      "[8599 rows x 1 columns]\n"
     ]
    }
   ],
   "source": [
    "\n",
    "df_min.set_index('Fecha', inplace = True)\n",
    "\n",
    "print(df_era_b)\n",
    "print(df_min)\n"
   ]
  },
  {
   "cell_type": "code",
   "execution_count": 359,
   "id": "504e2f19-8fa8-44e6-aaf7-123cc0a5b9df",
   "metadata": {},
   "outputs": [],
   "source": [
    "df_min.index.name = 'valid_time'"
   ]
  },
  {
   "cell_type": "code",
   "execution_count": 361,
   "id": "2fe6568c-9daf-4033-b114-ef02a110da1d",
   "metadata": {},
   "outputs": [
    {
     "data": {
      "text/html": [
       "<div>\n",
       "<style scoped>\n",
       "    .dataframe tbody tr th:only-of-type {\n",
       "        vertical-align: middle;\n",
       "    }\n",
       "\n",
       "    .dataframe tbody tr th {\n",
       "        vertical-align: top;\n",
       "    }\n",
       "\n",
       "    .dataframe thead th {\n",
       "        text-align: right;\n",
       "    }\n",
       "</style>\n",
       "<table border=\"1\" class=\"dataframe\">\n",
       "  <thead>\n",
       "    <tr style=\"text-align: right;\">\n",
       "      <th></th>\n",
       "      <th>Caudal_Diario</th>\n",
       "    </tr>\n",
       "    <tr>\n",
       "      <th>valid_time</th>\n",
       "      <th></th>\n",
       "    </tr>\n",
       "  </thead>\n",
       "  <tbody>\n",
       "    <tr>\n",
       "      <th>1968-09-01</th>\n",
       "      <td>331.55</td>\n",
       "    </tr>\n",
       "    <tr>\n",
       "      <th>1968-09-01</th>\n",
       "      <td>365.16</td>\n",
       "    </tr>\n",
       "    <tr>\n",
       "      <th>1968-09-01</th>\n",
       "      <td>301.37</td>\n",
       "    </tr>\n",
       "    <tr>\n",
       "      <th>1968-09-01</th>\n",
       "      <td>264.23</td>\n",
       "    </tr>\n",
       "    <tr>\n",
       "      <th>1968-10-01</th>\n",
       "      <td>303.42</td>\n",
       "    </tr>\n",
       "    <tr>\n",
       "      <th>...</th>\n",
       "      <td>...</td>\n",
       "    </tr>\n",
       "    <tr>\n",
       "      <th>1993-04-01</th>\n",
       "      <td>80</td>\n",
       "    </tr>\n",
       "    <tr>\n",
       "      <th>1993-04-01</th>\n",
       "      <td>89.8</td>\n",
       "    </tr>\n",
       "    <tr>\n",
       "      <th>1993-04-01</th>\n",
       "      <td>94.6</td>\n",
       "    </tr>\n",
       "    <tr>\n",
       "      <th>1993-04-01</th>\n",
       "      <td>116</td>\n",
       "    </tr>\n",
       "    <tr>\n",
       "      <th>1993-04-01</th>\n",
       "      <td>154</td>\n",
       "    </tr>\n",
       "  </tbody>\n",
       "</table>\n",
       "<p>8599 rows × 1 columns</p>\n",
       "</div>"
      ],
      "text/plain": [
       "           Caudal_Diario\n",
       "valid_time              \n",
       "1968-09-01        331.55\n",
       "1968-09-01        365.16\n",
       "1968-09-01        301.37\n",
       "1968-09-01        264.23\n",
       "1968-10-01        303.42\n",
       "...                  ...\n",
       "1993-04-01            80\n",
       "1993-04-01          89.8\n",
       "1993-04-01          94.6\n",
       "1993-04-01           116\n",
       "1993-04-01           154\n",
       "\n",
       "[8599 rows x 1 columns]"
      ]
     },
     "execution_count": 361,
     "metadata": {},
     "output_type": "execute_result"
    }
   ],
   "source": [
    "df_min"
   ]
  },
  {
   "cell_type": "code",
   "execution_count": 391,
   "id": "bebe38b1-637d-456b-b852-3263e7b4f836",
   "metadata": {},
   "outputs": [
    {
     "data": {
      "text/html": [
       "<div>\n",
       "<style scoped>\n",
       "    .dataframe tbody tr th:only-of-type {\n",
       "        vertical-align: middle;\n",
       "    }\n",
       "\n",
       "    .dataframe tbody tr th {\n",
       "        vertical-align: top;\n",
       "    }\n",
       "\n",
       "    .dataframe thead th {\n",
       "        text-align: right;\n",
       "    }\n",
       "</style>\n",
       "<table border=\"1\" class=\"dataframe\">\n",
       "  <thead>\n",
       "    <tr style=\"text-align: right;\">\n",
       "      <th></th>\n",
       "      <th>latitude</th>\n",
       "      <th>longitude</th>\n",
       "      <th>temp_celsius</th>\n",
       "      <th>viento</th>\n",
       "      <th>prep</th>\n",
       "    </tr>\n",
       "    <tr>\n",
       "      <th>valid_time</th>\n",
       "      <th></th>\n",
       "      <th></th>\n",
       "      <th></th>\n",
       "      <th></th>\n",
       "      <th></th>\n",
       "    </tr>\n",
       "  </thead>\n",
       "  <tbody>\n",
       "    <tr>\n",
       "      <th>1950-01-01</th>\n",
       "      <td>9.27</td>\n",
       "      <td>-83.51</td>\n",
       "      <td>18.453033</td>\n",
       "      <td>-0.379110</td>\n",
       "      <td>0.003800</td>\n",
       "    </tr>\n",
       "    <tr>\n",
       "      <th>1950-02-01</th>\n",
       "      <td>9.27</td>\n",
       "      <td>-83.51</td>\n",
       "      <td>19.064117</td>\n",
       "      <td>-0.224303</td>\n",
       "      <td>0.010912</td>\n",
       "    </tr>\n",
       "    <tr>\n",
       "      <th>1950-03-01</th>\n",
       "      <td>9.27</td>\n",
       "      <td>-83.51</td>\n",
       "      <td>19.888580</td>\n",
       "      <td>-0.098942</td>\n",
       "      <td>0.007686</td>\n",
       "    </tr>\n",
       "    <tr>\n",
       "      <th>1950-04-01</th>\n",
       "      <td>9.27</td>\n",
       "      <td>-83.51</td>\n",
       "      <td>19.979156</td>\n",
       "      <td>-0.127550</td>\n",
       "      <td>0.005268</td>\n",
       "    </tr>\n",
       "    <tr>\n",
       "      <th>1950-05-01</th>\n",
       "      <td>9.27</td>\n",
       "      <td>-83.51</td>\n",
       "      <td>19.736481</td>\n",
       "      <td>-0.165956</td>\n",
       "      <td>0.026215</td>\n",
       "    </tr>\n",
       "    <tr>\n",
       "      <th>...</th>\n",
       "      <td>...</td>\n",
       "      <td>...</td>\n",
       "      <td>...</td>\n",
       "      <td>...</td>\n",
       "      <td>...</td>\n",
       "    </tr>\n",
       "    <tr>\n",
       "      <th>1993-05-01</th>\n",
       "      <td>9.27</td>\n",
       "      <td>-83.51</td>\n",
       "      <td>20.556793</td>\n",
       "      <td>-0.012210</td>\n",
       "      <td>0.025452</td>\n",
       "    </tr>\n",
       "    <tr>\n",
       "      <th>1993-06-01</th>\n",
       "      <td>9.27</td>\n",
       "      <td>-83.51</td>\n",
       "      <td>20.885895</td>\n",
       "      <td>-0.034577</td>\n",
       "      <td>0.017602</td>\n",
       "    </tr>\n",
       "    <tr>\n",
       "      <th>1993-07-01</th>\n",
       "      <td>9.27</td>\n",
       "      <td>-83.51</td>\n",
       "      <td>20.032867</td>\n",
       "      <td>-0.158135</td>\n",
       "      <td>0.018372</td>\n",
       "    </tr>\n",
       "    <tr>\n",
       "      <th>1993-08-01</th>\n",
       "      <td>9.27</td>\n",
       "      <td>-83.51</td>\n",
       "      <td>20.128571</td>\n",
       "      <td>-0.071462</td>\n",
       "      <td>0.028504</td>\n",
       "    </tr>\n",
       "    <tr>\n",
       "      <th>1993-09-01</th>\n",
       "      <td>9.27</td>\n",
       "      <td>-83.51</td>\n",
       "      <td>19.618317</td>\n",
       "      <td>0.096183</td>\n",
       "      <td>0.026119</td>\n",
       "    </tr>\n",
       "  </tbody>\n",
       "</table>\n",
       "<p>525 rows × 5 columns</p>\n",
       "</div>"
      ],
      "text/plain": [
       "            latitude  longitude  temp_celsius    viento      prep\n",
       "valid_time                                                       \n",
       "1950-01-01      9.27     -83.51     18.453033 -0.379110  0.003800\n",
       "1950-02-01      9.27     -83.51     19.064117 -0.224303  0.010912\n",
       "1950-03-01      9.27     -83.51     19.888580 -0.098942  0.007686\n",
       "1950-04-01      9.27     -83.51     19.979156 -0.127550  0.005268\n",
       "1950-05-01      9.27     -83.51     19.736481 -0.165956  0.026215\n",
       "...              ...        ...           ...       ...       ...\n",
       "1993-05-01      9.27     -83.51     20.556793 -0.012210  0.025452\n",
       "1993-06-01      9.27     -83.51     20.885895 -0.034577  0.017602\n",
       "1993-07-01      9.27     -83.51     20.032867 -0.158135  0.018372\n",
       "1993-08-01      9.27     -83.51     20.128571 -0.071462  0.028504\n",
       "1993-09-01      9.27     -83.51     19.618317  0.096183  0.026119\n",
       "\n",
       "[525 rows x 5 columns]"
      ]
     },
     "execution_count": 391,
     "metadata": {},
     "output_type": "execute_result"
    }
   ],
   "source": [
    "df_era_b.head(525)"
   ]
  },
  {
   "cell_type": "code",
   "execution_count": 395,
   "id": "3deceacf-890a-4b42-ac86-f645f3f48715",
   "metadata": {},
   "outputs": [],
   "source": [
    "df_era_b = df_era_b[~df_era_b.index.duplicated(keep='first')]\n",
    "df_min = df_min[~df_min.index.duplicated(keep='first')]\n"
   ]
  },
  {
   "cell_type": "code",
   "execution_count": 397,
   "id": "650562d0-2da3-44e9-adfe-153fc69f4bbe",
   "metadata": {},
   "outputs": [],
   "source": [
    "df_completo_brujo = pd.concat([df_era_b, df_min], axis = 1)"
   ]
  },
  {
   "cell_type": "code",
   "execution_count": 399,
   "id": "556e80bb-6cde-4a53-8892-b112befa1f11",
   "metadata": {},
   "outputs": [
    {
     "data": {
      "text/html": [
       "<div>\n",
       "<style scoped>\n",
       "    .dataframe tbody tr th:only-of-type {\n",
       "        vertical-align: middle;\n",
       "    }\n",
       "\n",
       "    .dataframe tbody tr th {\n",
       "        vertical-align: top;\n",
       "    }\n",
       "\n",
       "    .dataframe thead th {\n",
       "        text-align: right;\n",
       "    }\n",
       "</style>\n",
       "<table border=\"1\" class=\"dataframe\">\n",
       "  <thead>\n",
       "    <tr style=\"text-align: right;\">\n",
       "      <th></th>\n",
       "      <th>latitude</th>\n",
       "      <th>longitude</th>\n",
       "      <th>temp_celsius</th>\n",
       "      <th>viento</th>\n",
       "      <th>prep</th>\n",
       "      <th>Caudal_Diario</th>\n",
       "    </tr>\n",
       "    <tr>\n",
       "      <th>valid_time</th>\n",
       "      <th></th>\n",
       "      <th></th>\n",
       "      <th></th>\n",
       "      <th></th>\n",
       "      <th></th>\n",
       "      <th></th>\n",
       "    </tr>\n",
       "  </thead>\n",
       "  <tbody>\n",
       "    <tr>\n",
       "      <th>1950-01-01</th>\n",
       "      <td>9.27</td>\n",
       "      <td>-83.51</td>\n",
       "      <td>18.453033</td>\n",
       "      <td>-0.379110</td>\n",
       "      <td>0.003800</td>\n",
       "      <td>NaN</td>\n",
       "    </tr>\n",
       "    <tr>\n",
       "      <th>1950-02-01</th>\n",
       "      <td>9.27</td>\n",
       "      <td>-83.51</td>\n",
       "      <td>19.064117</td>\n",
       "      <td>-0.224303</td>\n",
       "      <td>0.010912</td>\n",
       "      <td>NaN</td>\n",
       "    </tr>\n",
       "    <tr>\n",
       "      <th>1950-03-01</th>\n",
       "      <td>9.27</td>\n",
       "      <td>-83.51</td>\n",
       "      <td>19.888580</td>\n",
       "      <td>-0.098942</td>\n",
       "      <td>0.007686</td>\n",
       "      <td>NaN</td>\n",
       "    </tr>\n",
       "    <tr>\n",
       "      <th>1950-04-01</th>\n",
       "      <td>9.27</td>\n",
       "      <td>-83.51</td>\n",
       "      <td>19.979156</td>\n",
       "      <td>-0.127550</td>\n",
       "      <td>0.005268</td>\n",
       "      <td>NaN</td>\n",
       "    </tr>\n",
       "    <tr>\n",
       "      <th>1950-05-01</th>\n",
       "      <td>9.27</td>\n",
       "      <td>-83.51</td>\n",
       "      <td>19.736481</td>\n",
       "      <td>-0.165956</td>\n",
       "      <td>0.026215</td>\n",
       "      <td>NaN</td>\n",
       "    </tr>\n",
       "    <tr>\n",
       "      <th>...</th>\n",
       "      <td>...</td>\n",
       "      <td>...</td>\n",
       "      <td>...</td>\n",
       "      <td>...</td>\n",
       "      <td>...</td>\n",
       "      <td>...</td>\n",
       "    </tr>\n",
       "    <tr>\n",
       "      <th>2024-12-01</th>\n",
       "      <td>9.27</td>\n",
       "      <td>-83.51</td>\n",
       "      <td>19.991608</td>\n",
       "      <td>-0.288862</td>\n",
       "      <td>0.009731</td>\n",
       "      <td>NaN</td>\n",
       "    </tr>\n",
       "    <tr>\n",
       "      <th>2025-01-01</th>\n",
       "      <td>9.27</td>\n",
       "      <td>-83.51</td>\n",
       "      <td>19.821686</td>\n",
       "      <td>-0.348227</td>\n",
       "      <td>0.003635</td>\n",
       "      <td>NaN</td>\n",
       "    </tr>\n",
       "    <tr>\n",
       "      <th>2025-02-01</th>\n",
       "      <td>9.27</td>\n",
       "      <td>-83.51</td>\n",
       "      <td>20.288239</td>\n",
       "      <td>-0.297166</td>\n",
       "      <td>0.004517</td>\n",
       "      <td>NaN</td>\n",
       "    </tr>\n",
       "    <tr>\n",
       "      <th>2025-03-01</th>\n",
       "      <td>9.27</td>\n",
       "      <td>-83.51</td>\n",
       "      <td>21.349518</td>\n",
       "      <td>-0.191571</td>\n",
       "      <td>0.001858</td>\n",
       "      <td>NaN</td>\n",
       "    </tr>\n",
       "    <tr>\n",
       "      <th>2025-04-01</th>\n",
       "      <td>9.27</td>\n",
       "      <td>-83.51</td>\n",
       "      <td>21.323395</td>\n",
       "      <td>-0.182125</td>\n",
       "      <td>0.007708</td>\n",
       "      <td>NaN</td>\n",
       "    </tr>\n",
       "  </tbody>\n",
       "</table>\n",
       "<p>904 rows × 6 columns</p>\n",
       "</div>"
      ],
      "text/plain": [
       "            latitude  longitude  temp_celsius    viento      prep  \\\n",
       "valid_time                                                          \n",
       "1950-01-01      9.27     -83.51     18.453033 -0.379110  0.003800   \n",
       "1950-02-01      9.27     -83.51     19.064117 -0.224303  0.010912   \n",
       "1950-03-01      9.27     -83.51     19.888580 -0.098942  0.007686   \n",
       "1950-04-01      9.27     -83.51     19.979156 -0.127550  0.005268   \n",
       "1950-05-01      9.27     -83.51     19.736481 -0.165956  0.026215   \n",
       "...              ...        ...           ...       ...       ...   \n",
       "2024-12-01      9.27     -83.51     19.991608 -0.288862  0.009731   \n",
       "2025-01-01      9.27     -83.51     19.821686 -0.348227  0.003635   \n",
       "2025-02-01      9.27     -83.51     20.288239 -0.297166  0.004517   \n",
       "2025-03-01      9.27     -83.51     21.349518 -0.191571  0.001858   \n",
       "2025-04-01      9.27     -83.51     21.323395 -0.182125  0.007708   \n",
       "\n",
       "           Caudal_Diario  \n",
       "valid_time                \n",
       "1950-01-01           NaN  \n",
       "1950-02-01           NaN  \n",
       "1950-03-01           NaN  \n",
       "1950-04-01           NaN  \n",
       "1950-05-01           NaN  \n",
       "...                  ...  \n",
       "2024-12-01           NaN  \n",
       "2025-01-01           NaN  \n",
       "2025-02-01           NaN  \n",
       "2025-03-01           NaN  \n",
       "2025-04-01           NaN  \n",
       "\n",
       "[904 rows x 6 columns]"
      ]
     },
     "execution_count": 399,
     "metadata": {},
     "output_type": "execute_result"
    }
   ],
   "source": []
  },
  {
   "cell_type": "code",
   "execution_count": 267,
   "id": "ced97f85-7e74-49c3-a974-26a0d40720f1",
   "metadata": {},
   "outputs": [
    {
     "ename": "TypeError",
     "evalue": "'str' object is not callable",
     "output_type": "error",
     "traceback": [
      "\u001b[1;31m---------------------------------------------------------------------------\u001b[0m",
      "\u001b[1;31mTypeError\u001b[0m                                 Traceback (most recent call last)",
      "Cell \u001b[1;32mIn[267], line 1\u001b[0m\n\u001b[1;32m----> 1\u001b[0m df_completo_brujo \u001b[38;5;241m=\u001b[39m df_completo_brujo\u001b[38;5;241m.\u001b[39mset_index(\u001b[38;5;124m'\u001b[39m\u001b[38;5;124mvalid_time\u001b[39m\u001b[38;5;124m'\u001b[39m)\n",
      "\u001b[1;31mTypeError\u001b[0m: 'str' object is not callable"
     ]
    }
   ],
   "source": [
    "df_completo_brujo = df_completo_brujo.set_index('valid_time)"
   ]
  },
  {
   "cell_type": "code",
   "execution_count": 279,
   "id": "2d80796e-6a5f-49da-9bff-7add85e8a192",
   "metadata": {},
   "outputs": [],
   "source": [
    "df_completo_brujo  = df_completo_brujo.drop(columns = 'valid_time')"
   ]
  },
  {
   "cell_type": "code",
   "execution_count": 289,
   "id": "1bb28804-bd40-4b17-9bd1-c30434a97b90",
   "metadata": {},
   "outputs": [],
   "source": [
    "df_completo_brujo = df_completo_brujo.iloc[:,1:]"
   ]
  },
  {
   "cell_type": "code",
   "execution_count": 367,
   "id": "7a509097-73f3-4cef-b519-3569a9a608b5",
   "metadata": {},
   "outputs": [
    {
     "data": {
      "text/html": [
       "<div>\n",
       "<style scoped>\n",
       "    .dataframe tbody tr th:only-of-type {\n",
       "        vertical-align: middle;\n",
       "    }\n",
       "\n",
       "    .dataframe tbody tr th {\n",
       "        vertical-align: top;\n",
       "    }\n",
       "\n",
       "    .dataframe thead th {\n",
       "        text-align: right;\n",
       "    }\n",
       "</style>\n",
       "<table border=\"1\" class=\"dataframe\">\n",
       "  <thead>\n",
       "    <tr style=\"text-align: right;\">\n",
       "      <th></th>\n",
       "      <th>latitude</th>\n",
       "      <th>longitude</th>\n",
       "      <th>temp_celsius</th>\n",
       "      <th>viento</th>\n",
       "      <th>prep</th>\n",
       "      <th>Caudal_Diario</th>\n",
       "    </tr>\n",
       "    <tr>\n",
       "      <th>valid_time</th>\n",
       "      <th></th>\n",
       "      <th></th>\n",
       "      <th></th>\n",
       "      <th></th>\n",
       "      <th></th>\n",
       "      <th></th>\n",
       "    </tr>\n",
       "  </thead>\n",
       "  <tbody>\n",
       "    <tr>\n",
       "      <th>1950-01-01</th>\n",
       "      <td>9.27</td>\n",
       "      <td>-83.51</td>\n",
       "      <td>18.453033</td>\n",
       "      <td>-0.379110</td>\n",
       "      <td>0.003800</td>\n",
       "      <td>NaN</td>\n",
       "    </tr>\n",
       "    <tr>\n",
       "      <th>1950-02-01</th>\n",
       "      <td>9.27</td>\n",
       "      <td>-83.51</td>\n",
       "      <td>19.064117</td>\n",
       "      <td>-0.224303</td>\n",
       "      <td>0.010912</td>\n",
       "      <td>NaN</td>\n",
       "    </tr>\n",
       "    <tr>\n",
       "      <th>1950-03-01</th>\n",
       "      <td>9.27</td>\n",
       "      <td>-83.51</td>\n",
       "      <td>19.888580</td>\n",
       "      <td>-0.098942</td>\n",
       "      <td>0.007686</td>\n",
       "      <td>NaN</td>\n",
       "    </tr>\n",
       "    <tr>\n",
       "      <th>1950-04-01</th>\n",
       "      <td>9.27</td>\n",
       "      <td>-83.51</td>\n",
       "      <td>19.979156</td>\n",
       "      <td>-0.127550</td>\n",
       "      <td>0.005268</td>\n",
       "      <td>NaN</td>\n",
       "    </tr>\n",
       "    <tr>\n",
       "      <th>1950-05-01</th>\n",
       "      <td>9.27</td>\n",
       "      <td>-83.51</td>\n",
       "      <td>19.736481</td>\n",
       "      <td>-0.165956</td>\n",
       "      <td>0.026215</td>\n",
       "      <td>NaN</td>\n",
       "    </tr>\n",
       "    <tr>\n",
       "      <th>...</th>\n",
       "      <td>...</td>\n",
       "      <td>...</td>\n",
       "      <td>...</td>\n",
       "      <td>...</td>\n",
       "      <td>...</td>\n",
       "      <td>...</td>\n",
       "    </tr>\n",
       "    <tr>\n",
       "      <th>1993-04-01</th>\n",
       "      <td>NaN</td>\n",
       "      <td>NaN</td>\n",
       "      <td>NaN</td>\n",
       "      <td>NaN</td>\n",
       "      <td>NaN</td>\n",
       "      <td>80</td>\n",
       "    </tr>\n",
       "    <tr>\n",
       "      <th>1993-04-01</th>\n",
       "      <td>NaN</td>\n",
       "      <td>NaN</td>\n",
       "      <td>NaN</td>\n",
       "      <td>NaN</td>\n",
       "      <td>NaN</td>\n",
       "      <td>89.8</td>\n",
       "    </tr>\n",
       "    <tr>\n",
       "      <th>1993-04-01</th>\n",
       "      <td>NaN</td>\n",
       "      <td>NaN</td>\n",
       "      <td>NaN</td>\n",
       "      <td>NaN</td>\n",
       "      <td>NaN</td>\n",
       "      <td>94.6</td>\n",
       "    </tr>\n",
       "    <tr>\n",
       "      <th>1993-04-01</th>\n",
       "      <td>NaN</td>\n",
       "      <td>NaN</td>\n",
       "      <td>NaN</td>\n",
       "      <td>NaN</td>\n",
       "      <td>NaN</td>\n",
       "      <td>116</td>\n",
       "    </tr>\n",
       "    <tr>\n",
       "      <th>1993-04-01</th>\n",
       "      <td>NaN</td>\n",
       "      <td>NaN</td>\n",
       "      <td>NaN</td>\n",
       "      <td>NaN</td>\n",
       "      <td>NaN</td>\n",
       "      <td>154</td>\n",
       "    </tr>\n",
       "  </tbody>\n",
       "</table>\n",
       "<p>9503 rows × 6 columns</p>\n",
       "</div>"
      ],
      "text/plain": [
       "            latitude  longitude  temp_celsius    viento      prep  \\\n",
       "valid_time                                                          \n",
       "1950-01-01      9.27     -83.51     18.453033 -0.379110  0.003800   \n",
       "1950-02-01      9.27     -83.51     19.064117 -0.224303  0.010912   \n",
       "1950-03-01      9.27     -83.51     19.888580 -0.098942  0.007686   \n",
       "1950-04-01      9.27     -83.51     19.979156 -0.127550  0.005268   \n",
       "1950-05-01      9.27     -83.51     19.736481 -0.165956  0.026215   \n",
       "...              ...        ...           ...       ...       ...   \n",
       "1993-04-01       NaN        NaN           NaN       NaN       NaN   \n",
       "1993-04-01       NaN        NaN           NaN       NaN       NaN   \n",
       "1993-04-01       NaN        NaN           NaN       NaN       NaN   \n",
       "1993-04-01       NaN        NaN           NaN       NaN       NaN   \n",
       "1993-04-01       NaN        NaN           NaN       NaN       NaN   \n",
       "\n",
       "           Caudal_Diario  \n",
       "valid_time                \n",
       "1950-01-01           NaN  \n",
       "1950-02-01           NaN  \n",
       "1950-03-01           NaN  \n",
       "1950-04-01           NaN  \n",
       "1950-05-01           NaN  \n",
       "...                  ...  \n",
       "1993-04-01            80  \n",
       "1993-04-01          89.8  \n",
       "1993-04-01          94.6  \n",
       "1993-04-01           116  \n",
       "1993-04-01           154  \n",
       "\n",
       "[9503 rows x 6 columns]"
      ]
     },
     "execution_count": 367,
     "metadata": {},
     "output_type": "execute_result"
    }
   ],
   "source": [
    "df_completo_brujo"
   ]
  },
  {
   "cell_type": "code",
   "execution_count": 293,
   "id": "ef2ecb63-0bac-4766-8390-74079c3c2f6a",
   "metadata": {},
   "outputs": [],
   "source": [
    "df_completo_brujo.set_index('valid_time', inplace=True)"
   ]
  },
  {
   "cell_type": "code",
   "execution_count": 297,
   "id": "0646fa92-57de-4b90-918f-0f6486e3d88c",
   "metadata": {},
   "outputs": [],
   "source": [
    "df_completo_brujo = df_completo_brujo.drop(columns = 'index')"
   ]
  },
  {
   "cell_type": "code",
   "execution_count": 403,
   "id": "e8cf65d7-56dd-401d-93a6-320cc0952467",
   "metadata": {},
   "outputs": [],
   "source": [
    "df_completo_brujo.to_excel(\"nueva_base_brujo.xlsx\")"
   ]
  },
  {
   "cell_type": "code",
   "execution_count": 319,
   "id": "af91284f-4153-45a5-b897-c4a4072be9bf",
   "metadata": {},
   "outputs": [
    {
     "data": {
      "text/plain": [
       "0"
      ]
     },
     "execution_count": 319,
     "metadata": {},
     "output_type": "execute_result"
    }
   ],
   "source": [
    "df_era_b.index.isnull().sum()"
   ]
  }
 ],
 "metadata": {
  "kernelspec": {
   "display_name": "Python 3 (ipykernel)",
   "language": "python",
   "name": "python3"
  },
  "language_info": {
   "codemirror_mode": {
    "name": "ipython",
    "version": 3
   },
   "file_extension": ".py",
   "mimetype": "text/x-python",
   "name": "python",
   "nbconvert_exporter": "python",
   "pygments_lexer": "ipython3",
   "version": "3.12.7"
  }
 },
 "nbformat": 4,
 "nbformat_minor": 5
}
